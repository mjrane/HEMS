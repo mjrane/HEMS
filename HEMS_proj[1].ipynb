{
  "nbformat": 4,
  "nbformat_minor": 0,
  "metadata": {
    "colab": {
      "provenance": []
    },
    "kernelspec": {
      "name": "python3",
      "display_name": "Python 3"
    }
  },
  "cells": [
    {
      "cell_type": "code",
      "metadata": {
        "id": "wSI6AVZM_MBL"
      },
      "source": [
        "import numpy as np\n",
        "import pandas as pd\n",
        "import matplotlib.pyplot as plt\n",
        "from numpy import nan\n",
        "\n",
        "from tensorflow.keras import Sequential\n",
        "from tensorflow.keras.layers import LSTM, Dense\n",
        "\n",
        "from sklearn.metrics import mean_squared_error\n",
        "from sklearn.preprocessing import MinMaxScaler"
      ],
      "execution_count": null,
      "outputs": []
    },
    {
      "cell_type": "code",
      "metadata": {
        "id": "ioGNalAz_egO",
        "colab": {
          "base_uri": "https://localhost:8080/",
          "height": 420
        },
        "outputId": "a5787848-5321-4397-87b0-47e88f1cb7d1"
      },
      "source": [
        "#Reading the dataset\n",
        "\n",
        "data = pd.read_csv('sample.txt', sep = ';',\n",
        "                  parse_dates = True,\n",
        "                  low_memory = False)"
      ],
      "execution_count": null,
      "outputs": [
        {
          "output_type": "error",
          "ename": "FileNotFoundError",
          "evalue": "ignored",
          "traceback": [
            "\u001b[0;31m---------------------------------------------------------------------------\u001b[0m",
            "\u001b[0;31mFileNotFoundError\u001b[0m                         Traceback (most recent call last)",
            "\u001b[0;32m<ipython-input-3-cc80df557b03>\u001b[0m in \u001b[0;36m<module>\u001b[0;34m()\u001b[0m\n\u001b[1;32m      3\u001b[0m data = pd.read_csv('sample.txt', sep = ';',\n\u001b[1;32m      4\u001b[0m                   \u001b[0mparse_dates\u001b[0m \u001b[0;34m=\u001b[0m \u001b[0;32mTrue\u001b[0m\u001b[0;34m,\u001b[0m\u001b[0;34m\u001b[0m\u001b[0;34m\u001b[0m\u001b[0m\n\u001b[0;32m----> 5\u001b[0;31m                   low_memory = False)\n\u001b[0m",
            "\u001b[0;32m/usr/local/lib/python3.7/dist-packages/pandas/io/parsers.py\u001b[0m in \u001b[0;36mread_csv\u001b[0;34m(filepath_or_buffer, sep, delimiter, header, names, index_col, usecols, squeeze, prefix, mangle_dupe_cols, dtype, engine, converters, true_values, false_values, skipinitialspace, skiprows, skipfooter, nrows, na_values, keep_default_na, na_filter, verbose, skip_blank_lines, parse_dates, infer_datetime_format, keep_date_col, date_parser, dayfirst, cache_dates, iterator, chunksize, compression, thousands, decimal, lineterminator, quotechar, quoting, doublequote, escapechar, comment, encoding, dialect, error_bad_lines, warn_bad_lines, delim_whitespace, low_memory, memory_map, float_precision)\u001b[0m\n\u001b[1;32m    686\u001b[0m     )\n\u001b[1;32m    687\u001b[0m \u001b[0;34m\u001b[0m\u001b[0m\n\u001b[0;32m--> 688\u001b[0;31m     \u001b[0;32mreturn\u001b[0m \u001b[0m_read\u001b[0m\u001b[0;34m(\u001b[0m\u001b[0mfilepath_or_buffer\u001b[0m\u001b[0;34m,\u001b[0m \u001b[0mkwds\u001b[0m\u001b[0;34m)\u001b[0m\u001b[0;34m\u001b[0m\u001b[0;34m\u001b[0m\u001b[0m\n\u001b[0m\u001b[1;32m    689\u001b[0m \u001b[0;34m\u001b[0m\u001b[0m\n\u001b[1;32m    690\u001b[0m \u001b[0;34m\u001b[0m\u001b[0m\n",
            "\u001b[0;32m/usr/local/lib/python3.7/dist-packages/pandas/io/parsers.py\u001b[0m in \u001b[0;36m_read\u001b[0;34m(filepath_or_buffer, kwds)\u001b[0m\n\u001b[1;32m    452\u001b[0m \u001b[0;34m\u001b[0m\u001b[0m\n\u001b[1;32m    453\u001b[0m     \u001b[0;31m# Create the parser.\u001b[0m\u001b[0;34m\u001b[0m\u001b[0;34m\u001b[0m\u001b[0;34m\u001b[0m\u001b[0m\n\u001b[0;32m--> 454\u001b[0;31m     \u001b[0mparser\u001b[0m \u001b[0;34m=\u001b[0m \u001b[0mTextFileReader\u001b[0m\u001b[0;34m(\u001b[0m\u001b[0mfp_or_buf\u001b[0m\u001b[0;34m,\u001b[0m \u001b[0;34m**\u001b[0m\u001b[0mkwds\u001b[0m\u001b[0;34m)\u001b[0m\u001b[0;34m\u001b[0m\u001b[0;34m\u001b[0m\u001b[0m\n\u001b[0m\u001b[1;32m    455\u001b[0m \u001b[0;34m\u001b[0m\u001b[0m\n\u001b[1;32m    456\u001b[0m     \u001b[0;32mif\u001b[0m \u001b[0mchunksize\u001b[0m \u001b[0;32mor\u001b[0m \u001b[0miterator\u001b[0m\u001b[0;34m:\u001b[0m\u001b[0;34m\u001b[0m\u001b[0;34m\u001b[0m\u001b[0m\n",
            "\u001b[0;32m/usr/local/lib/python3.7/dist-packages/pandas/io/parsers.py\u001b[0m in \u001b[0;36m__init__\u001b[0;34m(self, f, engine, **kwds)\u001b[0m\n\u001b[1;32m    946\u001b[0m             \u001b[0mself\u001b[0m\u001b[0;34m.\u001b[0m\u001b[0moptions\u001b[0m\u001b[0;34m[\u001b[0m\u001b[0;34m\"has_index_names\"\u001b[0m\u001b[0;34m]\u001b[0m \u001b[0;34m=\u001b[0m \u001b[0mkwds\u001b[0m\u001b[0;34m[\u001b[0m\u001b[0;34m\"has_index_names\"\u001b[0m\u001b[0;34m]\u001b[0m\u001b[0;34m\u001b[0m\u001b[0;34m\u001b[0m\u001b[0m\n\u001b[1;32m    947\u001b[0m \u001b[0;34m\u001b[0m\u001b[0m\n\u001b[0;32m--> 948\u001b[0;31m         \u001b[0mself\u001b[0m\u001b[0;34m.\u001b[0m\u001b[0m_make_engine\u001b[0m\u001b[0;34m(\u001b[0m\u001b[0mself\u001b[0m\u001b[0;34m.\u001b[0m\u001b[0mengine\u001b[0m\u001b[0;34m)\u001b[0m\u001b[0;34m\u001b[0m\u001b[0;34m\u001b[0m\u001b[0m\n\u001b[0m\u001b[1;32m    949\u001b[0m \u001b[0;34m\u001b[0m\u001b[0m\n\u001b[1;32m    950\u001b[0m     \u001b[0;32mdef\u001b[0m \u001b[0mclose\u001b[0m\u001b[0;34m(\u001b[0m\u001b[0mself\u001b[0m\u001b[0;34m)\u001b[0m\u001b[0;34m:\u001b[0m\u001b[0;34m\u001b[0m\u001b[0;34m\u001b[0m\u001b[0m\n",
            "\u001b[0;32m/usr/local/lib/python3.7/dist-packages/pandas/io/parsers.py\u001b[0m in \u001b[0;36m_make_engine\u001b[0;34m(self, engine)\u001b[0m\n\u001b[1;32m   1178\u001b[0m     \u001b[0;32mdef\u001b[0m \u001b[0m_make_engine\u001b[0m\u001b[0;34m(\u001b[0m\u001b[0mself\u001b[0m\u001b[0;34m,\u001b[0m \u001b[0mengine\u001b[0m\u001b[0;34m=\u001b[0m\u001b[0;34m\"c\"\u001b[0m\u001b[0;34m)\u001b[0m\u001b[0;34m:\u001b[0m\u001b[0;34m\u001b[0m\u001b[0;34m\u001b[0m\u001b[0m\n\u001b[1;32m   1179\u001b[0m         \u001b[0;32mif\u001b[0m \u001b[0mengine\u001b[0m \u001b[0;34m==\u001b[0m \u001b[0;34m\"c\"\u001b[0m\u001b[0;34m:\u001b[0m\u001b[0;34m\u001b[0m\u001b[0;34m\u001b[0m\u001b[0m\n\u001b[0;32m-> 1180\u001b[0;31m             \u001b[0mself\u001b[0m\u001b[0;34m.\u001b[0m\u001b[0m_engine\u001b[0m \u001b[0;34m=\u001b[0m \u001b[0mCParserWrapper\u001b[0m\u001b[0;34m(\u001b[0m\u001b[0mself\u001b[0m\u001b[0;34m.\u001b[0m\u001b[0mf\u001b[0m\u001b[0;34m,\u001b[0m \u001b[0;34m**\u001b[0m\u001b[0mself\u001b[0m\u001b[0;34m.\u001b[0m\u001b[0moptions\u001b[0m\u001b[0;34m)\u001b[0m\u001b[0;34m\u001b[0m\u001b[0;34m\u001b[0m\u001b[0m\n\u001b[0m\u001b[1;32m   1181\u001b[0m         \u001b[0;32melse\u001b[0m\u001b[0;34m:\u001b[0m\u001b[0;34m\u001b[0m\u001b[0;34m\u001b[0m\u001b[0m\n\u001b[1;32m   1182\u001b[0m             \u001b[0;32mif\u001b[0m \u001b[0mengine\u001b[0m \u001b[0;34m==\u001b[0m \u001b[0;34m\"python\"\u001b[0m\u001b[0;34m:\u001b[0m\u001b[0;34m\u001b[0m\u001b[0;34m\u001b[0m\u001b[0m\n",
            "\u001b[0;32m/usr/local/lib/python3.7/dist-packages/pandas/io/parsers.py\u001b[0m in \u001b[0;36m__init__\u001b[0;34m(self, src, **kwds)\u001b[0m\n\u001b[1;32m   2008\u001b[0m         \u001b[0mkwds\u001b[0m\u001b[0;34m[\u001b[0m\u001b[0;34m\"usecols\"\u001b[0m\u001b[0;34m]\u001b[0m \u001b[0;34m=\u001b[0m \u001b[0mself\u001b[0m\u001b[0;34m.\u001b[0m\u001b[0musecols\u001b[0m\u001b[0;34m\u001b[0m\u001b[0;34m\u001b[0m\u001b[0m\n\u001b[1;32m   2009\u001b[0m \u001b[0;34m\u001b[0m\u001b[0m\n\u001b[0;32m-> 2010\u001b[0;31m         \u001b[0mself\u001b[0m\u001b[0;34m.\u001b[0m\u001b[0m_reader\u001b[0m \u001b[0;34m=\u001b[0m \u001b[0mparsers\u001b[0m\u001b[0;34m.\u001b[0m\u001b[0mTextReader\u001b[0m\u001b[0;34m(\u001b[0m\u001b[0msrc\u001b[0m\u001b[0;34m,\u001b[0m \u001b[0;34m**\u001b[0m\u001b[0mkwds\u001b[0m\u001b[0;34m)\u001b[0m\u001b[0;34m\u001b[0m\u001b[0;34m\u001b[0m\u001b[0m\n\u001b[0m\u001b[1;32m   2011\u001b[0m         \u001b[0mself\u001b[0m\u001b[0;34m.\u001b[0m\u001b[0munnamed_cols\u001b[0m \u001b[0;34m=\u001b[0m \u001b[0mself\u001b[0m\u001b[0;34m.\u001b[0m\u001b[0m_reader\u001b[0m\u001b[0;34m.\u001b[0m\u001b[0munnamed_cols\u001b[0m\u001b[0;34m\u001b[0m\u001b[0;34m\u001b[0m\u001b[0m\n\u001b[1;32m   2012\u001b[0m \u001b[0;34m\u001b[0m\u001b[0m\n",
            "\u001b[0;32mpandas/_libs/parsers.pyx\u001b[0m in \u001b[0;36mpandas._libs.parsers.TextReader.__cinit__\u001b[0;34m()\u001b[0m\n",
            "\u001b[0;32mpandas/_libs/parsers.pyx\u001b[0m in \u001b[0;36mpandas._libs.parsers.TextReader._setup_parser_source\u001b[0;34m()\u001b[0m\n",
            "\u001b[0;31mFileNotFoundError\u001b[0m: [Errno 2] No such file or directory: 'sample.txt'"
          ]
        }
      ]
    },
    {
      "cell_type": "code",
      "metadata": {
        "colab": {
          "base_uri": "https://localhost:8080/",
          "height": 203
        },
        "id": "hHqmdgT9_fuM",
        "outputId": "56ccc482-7713-4d58-ae7a-ce46f6e0bf98"
      },
      "source": [
        "#printing top rows\n",
        "\n",
        "data.head()\n"
      ],
      "execution_count": null,
      "outputs": [
        {
          "output_type": "error",
          "ename": "NameError",
          "evalue": "ignored",
          "traceback": [
            "\u001b[0;31m---------------------------------------------------------------------------\u001b[0m",
            "\u001b[0;31mNameError\u001b[0m                                 Traceback (most recent call last)",
            "\u001b[0;32m<ipython-input-4-f35b1a9304c5>\u001b[0m in \u001b[0;36m<module>\u001b[0;34m()\u001b[0m\n\u001b[1;32m      1\u001b[0m \u001b[0;31m#printing top rows\u001b[0m\u001b[0;34m\u001b[0m\u001b[0;34m\u001b[0m\u001b[0;34m\u001b[0m\u001b[0m\n\u001b[1;32m      2\u001b[0m \u001b[0;34m\u001b[0m\u001b[0m\n\u001b[0;32m----> 3\u001b[0;31m \u001b[0mdata\u001b[0m\u001b[0;34m.\u001b[0m\u001b[0mhead\u001b[0m\u001b[0;34m(\u001b[0m\u001b[0;34m)\u001b[0m\u001b[0;34m\u001b[0m\u001b[0;34m\u001b[0m\u001b[0m\n\u001b[0m",
            "\u001b[0;31mNameError\u001b[0m: name 'data' is not defined"
          ]
        }
      ]
    },
    {
      "cell_type": "markdown",
      "metadata": {
        "id": "bnRW_zX-_eOk"
      },
      "source": []
    },
    {
      "cell_type": "markdown",
      "metadata": {
        "id": "_68lVwdY_e8i"
      },
      "source": []
    },
    {
      "cell_type": "code",
      "metadata": {
        "colab": {
          "base_uri": "https://localhost:8080/",
          "height": 195
        },
        "id": "9xHyPIcKARQv",
        "outputId": "53bf6736-668d-4502-c324-1a837cac4ede"
      },
      "source": [
        "#concatenating the date and time columns to 'date_time' columns\n",
        "\n",
        "data['date_time'] = data['Date'].str.cat(data['Time'], sep= ' ')\n",
        "data.drop(['Date', 'Time'], inplace= True, axis = 1)\n",
        "data.head()"
      ],
      "execution_count": null,
      "outputs": [
        {
          "output_type": "execute_result",
          "data": {
            "text/html": [
              "<div>\n",
              "<style scoped>\n",
              "    .dataframe tbody tr th:only-of-type {\n",
              "        vertical-align: middle;\n",
              "    }\n",
              "\n",
              "    .dataframe tbody tr th {\n",
              "        vertical-align: top;\n",
              "    }\n",
              "\n",
              "    .dataframe thead th {\n",
              "        text-align: right;\n",
              "    }\n",
              "</style>\n",
              "<table border=\"1\" class=\"dataframe\">\n",
              "  <thead>\n",
              "    <tr style=\"text-align: right;\">\n",
              "      <th></th>\n",
              "      <th>active</th>\n",
              "      <th>voltage</th>\n",
              "      <th>void</th>\n",
              "      <th>date_time</th>\n",
              "    </tr>\n",
              "  </thead>\n",
              "  <tbody>\n",
              "    <tr>\n",
              "      <th>0</th>\n",
              "      <td>2748286.84</td>\n",
              "      <td>6003707.5</td>\n",
              "      <td>NaN</td>\n",
              "      <td>2021-03-13 21:47:17</td>\n",
              "    </tr>\n",
              "    <tr>\n",
              "      <th>1</th>\n",
              "      <td>2728327.90</td>\n",
              "      <td>6007809.0</td>\n",
              "      <td>NaN</td>\n",
              "      <td>2021-03-13 21:47:17</td>\n",
              "    </tr>\n",
              "    <tr>\n",
              "      <th>2</th>\n",
              "      <td>2728365.43</td>\n",
              "      <td>6011337.5</td>\n",
              "      <td>NaN</td>\n",
              "      <td>2021-03-13 21:47:17</td>\n",
              "    </tr>\n",
              "    <tr>\n",
              "      <th>3</th>\n",
              "      <td>2728349.01</td>\n",
              "      <td>6009820.0</td>\n",
              "      <td>NaN</td>\n",
              "      <td>2021-03-13 21:47:17</td>\n",
              "    </tr>\n",
              "    <tr>\n",
              "      <th>4</th>\n",
              "      <td>2738306.78</td>\n",
              "      <td>6005731.5</td>\n",
              "      <td>NaN</td>\n",
              "      <td>2021-03-13 21:47:18</td>\n",
              "    </tr>\n",
              "  </tbody>\n",
              "</table>\n",
              "</div>"
            ],
            "text/plain": [
              "       active    voltage  void            date_time\n",
              "0  2748286.84  6003707.5   NaN  2021-03-13 21:47:17\n",
              "1  2728327.90  6007809.0   NaN  2021-03-13 21:47:17\n",
              "2  2728365.43  6011337.5   NaN  2021-03-13 21:47:17\n",
              "3  2728349.01  6009820.0   NaN  2021-03-13 21:47:17\n",
              "4  2738306.78  6005731.5   NaN  2021-03-13 21:47:18"
            ]
          },
          "metadata": {
            "tags": []
          },
          "execution_count": 42
        }
      ]
    },
    {
      "cell_type": "code",
      "metadata": {
        "id": "c1g7uHCQdLNH"
      },
      "source": [
        "data.drop(['void'], inplace= True, axis = 1)\n"
      ],
      "execution_count": null,
      "outputs": []
    },
    {
      "cell_type": "code",
      "metadata": {
        "colab": {
          "base_uri": "https://localhost:8080/",
          "height": 195
        },
        "id": "IuMO2zxjdaIo",
        "outputId": "d45c4521-2a67-4ddf-b176-1ce9ea921807"
      },
      "source": [
        "data.head()"
      ],
      "execution_count": null,
      "outputs": [
        {
          "output_type": "execute_result",
          "data": {
            "text/html": [
              "<div>\n",
              "<style scoped>\n",
              "    .dataframe tbody tr th:only-of-type {\n",
              "        vertical-align: middle;\n",
              "    }\n",
              "\n",
              "    .dataframe tbody tr th {\n",
              "        vertical-align: top;\n",
              "    }\n",
              "\n",
              "    .dataframe thead th {\n",
              "        text-align: right;\n",
              "    }\n",
              "</style>\n",
              "<table border=\"1\" class=\"dataframe\">\n",
              "  <thead>\n",
              "    <tr style=\"text-align: right;\">\n",
              "      <th></th>\n",
              "      <th>active</th>\n",
              "      <th>voltage</th>\n",
              "      <th>date_time</th>\n",
              "    </tr>\n",
              "  </thead>\n",
              "  <tbody>\n",
              "    <tr>\n",
              "      <th>0</th>\n",
              "      <td>2748286.84</td>\n",
              "      <td>6003707.5</td>\n",
              "      <td>2021-03-13 21:47:17</td>\n",
              "    </tr>\n",
              "    <tr>\n",
              "      <th>1</th>\n",
              "      <td>2728327.90</td>\n",
              "      <td>6007809.0</td>\n",
              "      <td>2021-03-13 21:47:17</td>\n",
              "    </tr>\n",
              "    <tr>\n",
              "      <th>2</th>\n",
              "      <td>2728365.43</td>\n",
              "      <td>6011337.5</td>\n",
              "      <td>2021-03-13 21:47:17</td>\n",
              "    </tr>\n",
              "    <tr>\n",
              "      <th>3</th>\n",
              "      <td>2728349.01</td>\n",
              "      <td>6009820.0</td>\n",
              "      <td>2021-03-13 21:47:17</td>\n",
              "    </tr>\n",
              "    <tr>\n",
              "      <th>4</th>\n",
              "      <td>2738306.78</td>\n",
              "      <td>6005731.5</td>\n",
              "      <td>2021-03-13 21:47:18</td>\n",
              "    </tr>\n",
              "  </tbody>\n",
              "</table>\n",
              "</div>"
            ],
            "text/plain": [
              "       active    voltage            date_time\n",
              "0  2748286.84  6003707.5  2021-03-13 21:47:17\n",
              "1  2728327.90  6007809.0  2021-03-13 21:47:17\n",
              "2  2728365.43  6011337.5  2021-03-13 21:47:17\n",
              "3  2728349.01  6009820.0  2021-03-13 21:47:17\n",
              "4  2738306.78  6005731.5  2021-03-13 21:47:18"
            ]
          },
          "metadata": {
            "tags": []
          },
          "execution_count": 44
        }
      ]
    },
    {
      "cell_type": "code",
      "metadata": {
        "colab": {
          "base_uri": "https://localhost:8080/",
          "height": 225
        },
        "id": "Kub0G05hAUOX",
        "outputId": "136b7fe6-8b28-4094-98b8-1489b6f12a6b"
      },
      "source": [
        "data.set_index(['date_time'], inplace=True)\n",
        "data.head()"
      ],
      "execution_count": null,
      "outputs": [
        {
          "output_type": "execute_result",
          "data": {
            "text/html": [
              "<div>\n",
              "<style scoped>\n",
              "    .dataframe tbody tr th:only-of-type {\n",
              "        vertical-align: middle;\n",
              "    }\n",
              "\n",
              "    .dataframe tbody tr th {\n",
              "        vertical-align: top;\n",
              "    }\n",
              "\n",
              "    .dataframe thead th {\n",
              "        text-align: right;\n",
              "    }\n",
              "</style>\n",
              "<table border=\"1\" class=\"dataframe\">\n",
              "  <thead>\n",
              "    <tr style=\"text-align: right;\">\n",
              "      <th></th>\n",
              "      <th>active</th>\n",
              "      <th>voltage</th>\n",
              "    </tr>\n",
              "    <tr>\n",
              "      <th>date_time</th>\n",
              "      <th></th>\n",
              "      <th></th>\n",
              "    </tr>\n",
              "  </thead>\n",
              "  <tbody>\n",
              "    <tr>\n",
              "      <th>2021-03-13 21:47:17</th>\n",
              "      <td>2748286.84</td>\n",
              "      <td>6003707.5</td>\n",
              "    </tr>\n",
              "    <tr>\n",
              "      <th>2021-03-13 21:47:17</th>\n",
              "      <td>2728327.90</td>\n",
              "      <td>6007809.0</td>\n",
              "    </tr>\n",
              "    <tr>\n",
              "      <th>2021-03-13 21:47:17</th>\n",
              "      <td>2728365.43</td>\n",
              "      <td>6011337.5</td>\n",
              "    </tr>\n",
              "    <tr>\n",
              "      <th>2021-03-13 21:47:17</th>\n",
              "      <td>2728349.01</td>\n",
              "      <td>6009820.0</td>\n",
              "    </tr>\n",
              "    <tr>\n",
              "      <th>2021-03-13 21:47:18</th>\n",
              "      <td>2738306.78</td>\n",
              "      <td>6005731.5</td>\n",
              "    </tr>\n",
              "  </tbody>\n",
              "</table>\n",
              "</div>"
            ],
            "text/plain": [
              "                         active    voltage\n",
              "date_time                                 \n",
              "2021-03-13 21:47:17  2748286.84  6003707.5\n",
              "2021-03-13 21:47:17  2728327.90  6007809.0\n",
              "2021-03-13 21:47:17  2728365.43  6011337.5\n",
              "2021-03-13 21:47:17  2728349.01  6009820.0\n",
              "2021-03-13 21:47:18  2738306.78  6005731.5"
            ]
          },
          "metadata": {
            "tags": []
          },
          "execution_count": 45
        }
      ]
    },
    {
      "cell_type": "code",
      "metadata": {
        "id": "OHwGgB4SAV-b"
      },
      "source": [
        "#replacing each '?'characters with NaN value\n",
        "\n",
        "data.replace('?', nan, inplace=True)"
      ],
      "execution_count": null,
      "outputs": []
    },
    {
      "cell_type": "code",
      "metadata": {
        "id": "H4ZwJX5dAX6k"
      },
      "source": [
        "#This will allow us to work with the data as one array of floating point values rather than mixed types (less efficient.)\n",
        "\n",
        "data = data.astype('float')"
      ],
      "execution_count": null,
      "outputs": []
    },
    {
      "cell_type": "code",
      "metadata": {
        "colab": {
          "base_uri": "https://localhost:8080/"
        },
        "id": "XdwTspHkAZhF",
        "outputId": "eeb74e1b-5c20-45cc-8edd-3f438e957143"
      },
      "source": [
        "#information of the dataset\n",
        "\n",
        "data.info()"
      ],
      "execution_count": null,
      "outputs": [
        {
          "output_type": "stream",
          "text": [
            "<class 'pandas.core.frame.DataFrame'>\n",
            "Index: 73 entries, 2021-03-13 21:47:17 to 2021-03-13 21:47:31\n",
            "Data columns (total 2 columns):\n",
            " #   Column   Non-Null Count  Dtype  \n",
            "---  ------   --------------  -----  \n",
            " 0   active   73 non-null     float64\n",
            " 1   voltage  73 non-null     float64\n",
            "dtypes: float64(2)\n",
            "memory usage: 1.7+ KB\n"
          ],
          "name": "stdout"
        }
      ]
    },
    {
      "cell_type": "code",
      "metadata": {
        "colab": {
          "base_uri": "https://localhost:8080/"
        },
        "id": "ZC-5p9gXAbmE",
        "outputId": "c9a13a6c-528e-47fa-9298-b8b985a97cc2"
      },
      "source": [
        "#checking the null values\n",
        "np.isnan(data).sum()"
      ],
      "execution_count": null,
      "outputs": [
        {
          "output_type": "execute_result",
          "data": {
            "text/plain": [
              "active     0\n",
              "voltage    0\n",
              "dtype: int64"
            ]
          },
          "metadata": {
            "tags": []
          },
          "execution_count": 49
        }
      ]
    },
    {
      "cell_type": "code",
      "metadata": {
        "id": "91tdlYR7AdRo"
      },
      "source": [
        "def fill_missing(data):\n",
        "    one_day = 24*60\n",
        "    for row in range(data.shape[0]):\n",
        "        for col in range(data.shape[1]):\n",
        "            if np.isnan(data[row, col]):\n",
        "                data[row, col] = data[row-one_day, col]"
      ],
      "execution_count": null,
      "outputs": []
    },
    {
      "cell_type": "code",
      "metadata": {
        "id": "JXPro7bVAe3I"
      },
      "source": [
        "fill_missing(data.values)"
      ],
      "execution_count": null,
      "outputs": []
    },
    {
      "cell_type": "code",
      "metadata": {
        "colab": {
          "base_uri": "https://localhost:8080/"
        },
        "id": "lwmxPoCVAgWo",
        "outputId": "ff62b3e5-6c27-476c-bcf3-3611e89ec8be"
      },
      "source": [
        "#checking the nan values\n",
        "\n",
        "np.isnan(data).sum()"
      ],
      "execution_count": null,
      "outputs": [
        {
          "output_type": "execute_result",
          "data": {
            "text/plain": [
              "active     0\n",
              "voltage    0\n",
              "dtype: int64"
            ]
          },
          "metadata": {
            "tags": []
          },
          "execution_count": 52
        }
      ]
    },
    {
      "cell_type": "code",
      "metadata": {
        "colab": {
          "base_uri": "https://localhost:8080/"
        },
        "id": "8EjxUZlRArXJ",
        "outputId": "19cb0ea6-2ffd-4b59-fb6f-f211e80249a4"
      },
      "source": [
        "data.info()\n"
      ],
      "execution_count": null,
      "outputs": [
        {
          "output_type": "stream",
          "text": [
            "<class 'pandas.core.frame.DataFrame'>\n",
            "Index: 73 entries, 2021-03-13 21:47:17 to 2021-03-13 21:47:31\n",
            "Data columns (total 2 columns):\n",
            " #   Column   Non-Null Count  Dtype  \n",
            "---  ------   --------------  -----  \n",
            " 0   active   73 non-null     float64\n",
            " 1   voltage  73 non-null     float64\n",
            "dtypes: float64(2)\n",
            "memory usage: 1.7+ KB\n"
          ],
          "name": "stdout"
        }
      ]
    },
    {
      "cell_type": "code",
      "metadata": {
        "colab": {
          "base_uri": "https://localhost:8080/"
        },
        "id": "7x-swFubBGw-",
        "outputId": "e47b917a-5e38-49b0-e0f9-4b4f6b49a7a8"
      },
      "source": [
        "#printing the shape of the data\n",
        "data.shape"
      ],
      "execution_count": null,
      "outputs": [
        {
          "output_type": "execute_result",
          "data": {
            "text/plain": [
              "(73, 2)"
            ]
          },
          "metadata": {
            "tags": []
          },
          "execution_count": 54
        }
      ]
    },
    {
      "cell_type": "code",
      "metadata": {
        "colab": {
          "base_uri": "https://localhost:8080/",
          "height": 225
        },
        "id": "ysJfNDw9Brk2",
        "outputId": "2beb67dc-beb1-4d4f-ea16-c27bcead94fd"
      },
      "source": [
        "data.head()"
      ],
      "execution_count": null,
      "outputs": [
        {
          "output_type": "execute_result",
          "data": {
            "text/html": [
              "<div>\n",
              "<style scoped>\n",
              "    .dataframe tbody tr th:only-of-type {\n",
              "        vertical-align: middle;\n",
              "    }\n",
              "\n",
              "    .dataframe tbody tr th {\n",
              "        vertical-align: top;\n",
              "    }\n",
              "\n",
              "    .dataframe thead th {\n",
              "        text-align: right;\n",
              "    }\n",
              "</style>\n",
              "<table border=\"1\" class=\"dataframe\">\n",
              "  <thead>\n",
              "    <tr style=\"text-align: right;\">\n",
              "      <th></th>\n",
              "      <th>active</th>\n",
              "      <th>voltage</th>\n",
              "    </tr>\n",
              "    <tr>\n",
              "      <th>date_time</th>\n",
              "      <th></th>\n",
              "      <th></th>\n",
              "    </tr>\n",
              "  </thead>\n",
              "  <tbody>\n",
              "    <tr>\n",
              "      <th>2021-03-13 21:47:17</th>\n",
              "      <td>2748286.84</td>\n",
              "      <td>6003707.5</td>\n",
              "    </tr>\n",
              "    <tr>\n",
              "      <th>2021-03-13 21:47:17</th>\n",
              "      <td>2728327.90</td>\n",
              "      <td>6007809.0</td>\n",
              "    </tr>\n",
              "    <tr>\n",
              "      <th>2021-03-13 21:47:17</th>\n",
              "      <td>2728365.43</td>\n",
              "      <td>6011337.5</td>\n",
              "    </tr>\n",
              "    <tr>\n",
              "      <th>2021-03-13 21:47:17</th>\n",
              "      <td>2728349.01</td>\n",
              "      <td>6009820.0</td>\n",
              "    </tr>\n",
              "    <tr>\n",
              "      <th>2021-03-13 21:47:18</th>\n",
              "      <td>2738306.78</td>\n",
              "      <td>6005731.5</td>\n",
              "    </tr>\n",
              "  </tbody>\n",
              "</table>\n",
              "</div>"
            ],
            "text/plain": [
              "                         active    voltage\n",
              "date_time                                 \n",
              "2021-03-13 21:47:17  2748286.84  6003707.5\n",
              "2021-03-13 21:47:17  2728327.90  6007809.0\n",
              "2021-03-13 21:47:17  2728365.43  6011337.5\n",
              "2021-03-13 21:47:17  2728349.01  6009820.0\n",
              "2021-03-13 21:47:18  2738306.78  6005731.5"
            ]
          },
          "metadata": {
            "tags": []
          },
          "execution_count": 55
        }
      ]
    },
    {
      "cell_type": "code",
      "metadata": {
        "id": "wGf31Q61Bs-j"
      },
      "source": [
        "#conversion of dataframe to .csv\n",
        "\n",
        "data.to_csv('cleaned_data.csv')"
      ],
      "execution_count": null,
      "outputs": []
    },
    {
      "cell_type": "code",
      "metadata": {
        "id": "Nm0qA7NVB8uE"
      },
      "source": [
        "#reading the dataset\n",
        "\n",
        "dataset = pd.read_csv('cleaned_data.csv', parse_dates = True, index_col = 'date_time', low_memory = False)"
      ],
      "execution_count": null,
      "outputs": []
    },
    {
      "cell_type": "code",
      "metadata": {
        "colab": {
          "base_uri": "https://localhost:8080/",
          "height": 225
        },
        "id": "qgVwz9ERCAT0",
        "outputId": "120399de-eaa1-4413-a2af-19eac4713f43"
      },
      "source": [
        "#printing the top rows\n",
        "\n",
        "dataset.head()"
      ],
      "execution_count": null,
      "outputs": [
        {
          "output_type": "execute_result",
          "data": {
            "text/html": [
              "<div>\n",
              "<style scoped>\n",
              "    .dataframe tbody tr th:only-of-type {\n",
              "        vertical-align: middle;\n",
              "    }\n",
              "\n",
              "    .dataframe tbody tr th {\n",
              "        vertical-align: top;\n",
              "    }\n",
              "\n",
              "    .dataframe thead th {\n",
              "        text-align: right;\n",
              "    }\n",
              "</style>\n",
              "<table border=\"1\" class=\"dataframe\">\n",
              "  <thead>\n",
              "    <tr style=\"text-align: right;\">\n",
              "      <th></th>\n",
              "      <th>active</th>\n",
              "      <th>voltage</th>\n",
              "    </tr>\n",
              "    <tr>\n",
              "      <th>date_time</th>\n",
              "      <th></th>\n",
              "      <th></th>\n",
              "    </tr>\n",
              "  </thead>\n",
              "  <tbody>\n",
              "    <tr>\n",
              "      <th>2021-03-13 21:47:17</th>\n",
              "      <td>2748286.84</td>\n",
              "      <td>6003707.5</td>\n",
              "    </tr>\n",
              "    <tr>\n",
              "      <th>2021-03-13 21:47:17</th>\n",
              "      <td>2728327.90</td>\n",
              "      <td>6007809.0</td>\n",
              "    </tr>\n",
              "    <tr>\n",
              "      <th>2021-03-13 21:47:17</th>\n",
              "      <td>2728365.43</td>\n",
              "      <td>6011337.5</td>\n",
              "    </tr>\n",
              "    <tr>\n",
              "      <th>2021-03-13 21:47:17</th>\n",
              "      <td>2728349.01</td>\n",
              "      <td>6009820.0</td>\n",
              "    </tr>\n",
              "    <tr>\n",
              "      <th>2021-03-13 21:47:18</th>\n",
              "      <td>2738306.78</td>\n",
              "      <td>6005731.5</td>\n",
              "    </tr>\n",
              "  </tbody>\n",
              "</table>\n",
              "</div>"
            ],
            "text/plain": [
              "                         active    voltage\n",
              "date_time                                 \n",
              "2021-03-13 21:47:17  2748286.84  6003707.5\n",
              "2021-03-13 21:47:17  2728327.90  6007809.0\n",
              "2021-03-13 21:47:17  2728365.43  6011337.5\n",
              "2021-03-13 21:47:17  2728349.01  6009820.0\n",
              "2021-03-13 21:47:18  2738306.78  6005731.5"
            ]
          },
          "metadata": {
            "tags": []
          },
          "execution_count": 59
        }
      ]
    },
    {
      "cell_type": "code",
      "metadata": {
        "colab": {
          "base_uri": "https://localhost:8080/",
          "height": 225
        },
        "id": "zwj2fZX7CCDl",
        "outputId": "a28d7792-9fe3-43f7-ba8d-d1343a18e04b"
      },
      "source": [
        "#printing the bottom rows\n",
        "dataset.tail()"
      ],
      "execution_count": null,
      "outputs": [
        {
          "output_type": "execute_result",
          "data": {
            "text/html": [
              "<div>\n",
              "<style scoped>\n",
              "    .dataframe tbody tr th:only-of-type {\n",
              "        vertical-align: middle;\n",
              "    }\n",
              "\n",
              "    .dataframe tbody tr th {\n",
              "        vertical-align: top;\n",
              "    }\n",
              "\n",
              "    .dataframe thead th {\n",
              "        text-align: right;\n",
              "    }\n",
              "</style>\n",
              "<table border=\"1\" class=\"dataframe\">\n",
              "  <thead>\n",
              "    <tr style=\"text-align: right;\">\n",
              "      <th></th>\n",
              "      <th>active</th>\n",
              "      <th>voltage</th>\n",
              "    </tr>\n",
              "    <tr>\n",
              "      <th>date_time</th>\n",
              "      <th></th>\n",
              "      <th></th>\n",
              "    </tr>\n",
              "  </thead>\n",
              "  <tbody>\n",
              "    <tr>\n",
              "      <th>2021-03-13 21:47:31</th>\n",
              "      <td>2449339.04</td>\n",
              "      <td>6029022.5</td>\n",
              "    </tr>\n",
              "    <tr>\n",
              "      <th>2021-03-13 21:47:31</th>\n",
              "      <td>2449310.89</td>\n",
              "      <td>6030507.0</td>\n",
              "    </tr>\n",
              "    <tr>\n",
              "      <th>2021-03-13 21:47:31</th>\n",
              "      <td>2439330.83</td>\n",
              "      <td>6029467.5</td>\n",
              "    </tr>\n",
              "    <tr>\n",
              "      <th>2021-03-13 21:47:31</th>\n",
              "      <td>2439351.94</td>\n",
              "      <td>6028302.0</td>\n",
              "    </tr>\n",
              "    <tr>\n",
              "      <th>2021-03-13 21:47:31</th>\n",
              "      <td>2449329.66</td>\n",
              "      <td>6029530.5</td>\n",
              "    </tr>\n",
              "  </tbody>\n",
              "</table>\n",
              "</div>"
            ],
            "text/plain": [
              "                         active    voltage\n",
              "date_time                                 \n",
              "2021-03-13 21:47:31  2449339.04  6029022.5\n",
              "2021-03-13 21:47:31  2449310.89  6030507.0\n",
              "2021-03-13 21:47:31  2439330.83  6029467.5\n",
              "2021-03-13 21:47:31  2439351.94  6028302.0\n",
              "2021-03-13 21:47:31  2449329.66  6029530.5"
            ]
          },
          "metadata": {
            "tags": []
          },
          "execution_count": 60
        }
      ]
    },
    {
      "cell_type": "code",
      "metadata": {
        "id": "77gFt4OjCEdx"
      },
      "source": [
        "#Downsampling the data into dáy-wise bins and sum the values of the timestamps falling into a bin.\n",
        "\n",
        "data = dataset.resample('D').sum()"
      ],
      "execution_count": null,
      "outputs": []
    },
    {
      "cell_type": "code",
      "metadata": {
        "colab": {
          "base_uri": "https://localhost:8080/",
          "height": 106
        },
        "id": "GKE-y5F8CF3j",
        "outputId": "77c10c0b-0c09-4428-e794-29877cd60b51"
      },
      "source": [
        "#data after sampling it into daywise manner\n",
        "\n",
        "data.head()"
      ],
      "execution_count": null,
      "outputs": [
        {
          "output_type": "execute_result",
          "data": {
            "text/html": [
              "<div>\n",
              "<style scoped>\n",
              "    .dataframe tbody tr th:only-of-type {\n",
              "        vertical-align: middle;\n",
              "    }\n",
              "\n",
              "    .dataframe tbody tr th {\n",
              "        vertical-align: top;\n",
              "    }\n",
              "\n",
              "    .dataframe thead th {\n",
              "        text-align: right;\n",
              "    }\n",
              "</style>\n",
              "<table border=\"1\" class=\"dataframe\">\n",
              "  <thead>\n",
              "    <tr style=\"text-align: right;\">\n",
              "      <th></th>\n",
              "      <th>active</th>\n",
              "      <th>voltage</th>\n",
              "    </tr>\n",
              "    <tr>\n",
              "      <th>date_time</th>\n",
              "      <th></th>\n",
              "      <th></th>\n",
              "    </tr>\n",
              "  </thead>\n",
              "  <tbody>\n",
              "    <tr>\n",
              "      <th>2021-03-13</th>\n",
              "      <td>1.929118e+08</td>\n",
              "      <td>439400559.5</td>\n",
              "    </tr>\n",
              "  </tbody>\n",
              "</table>\n",
              "</div>"
            ],
            "text/plain": [
              "                  active      voltage\n",
              "date_time                            \n",
              "2021-03-13  1.929118e+08  439400559.5"
            ]
          },
          "metadata": {
            "tags": []
          },
          "execution_count": 62
        }
      ]
    },
    {
      "cell_type": "code",
      "metadata": {
        "colab": {
          "base_uri": "https://localhost:8080/",
          "height": 320
        },
        "id": "Yym8RxSKCI3A",
        "outputId": "5ff8b6be-07f2-475a-d640-4de6fa0ecb34"
      },
      "source": [
        "fig, ax = plt.subplots(figsize=(5,5))\n",
        "\n",
        "for i in range(len(data.columns)):\n",
        "    plt.subplot(len(data.columns), 1, i+1)\n",
        "    name = data.columns[i]\n",
        "    plt.plot(data[name])\n",
        "    plt.title(name, y=0, loc = 'right')\n",
        "    plt.yticks([])\n",
        "plt.show()\n",
        "fig.tight_layout()"
      ],
      "execution_count": null,
      "outputs": [
        {
          "output_type": "display_data",
          "data": {
            "image/png": "[encoded data removed]",
            "text/plain": [
              "<Figure size 360x360 with 2 Axes>"
            ]
          },
          "metadata": {
            "tags": [],
            "needs_background": "light"
          }
        }
      ]
    },
    {
      "cell_type": "code",
      "metadata": {
        "id": "FB4VT8ojCMKx"
      },
      "source": [
        "#we have considered 5 years here\n",
        "\n",
        "years = ['2021']"
      ],
      "execution_count": null,
      "outputs": []
    },
    {
      "cell_type": "code",
      "metadata": {
        "colab": {
          "base_uri": "https://localhost:8080/",
          "height": 1000
        },
        "id": "aG5a42VKCN3i",
        "outputId": "2bea6aec-f192-47ed-dfea-e6be89f83179"
      },
      "source": [
        "fig, ax = plt.subplots(figsize=(18,18))\n",
        "\n",
        "for i in range(len(years)):\n",
        "    plt.subplot(len(years), 1, i+1)\n",
        "    year = years[i]\n",
        "    active_power_data = data[str(year)]\n",
        "    plt.plot(active_power_data['Global_active_power'])\n",
        "    plt.title(str(year), y = 0, loc = 'left')\n",
        "plt.show()\n",
        "fig.tight_layout()"
      ],
      "execution_count": null,
      "outputs": [
        {
          "output_type": "display_data",
          "data": {
            "image/png": "[encoded data removed]",
            "text/plain": [
              "<Figure size 1296x1296 with 4 Axes>"
            ]
          },
          "metadata": {
            "tags": [],
            "needs_background": "light"
          }
        }
      ]
    },
    {
      "cell_type": "code",
      "metadata": {
        "id": "bL00E8uBCOjk",
        "colab": {
          "base_uri": "https://localhost:8080/",
          "height": 550
        },
        "outputId": "bcf92b28-7c6d-4706-f8dd-1b1f7b182a7c"
      },
      "source": [
        "#for year 2006\n",
        "\n",
        "data['2006']"
      ],
      "execution_count": null,
      "outputs": [
        {
          "output_type": "execute_result",
          "data": {
            "text/html": [
              "<div>\n",
              "<style scoped>\n",
              "    .dataframe tbody tr th:only-of-type {\n",
              "        vertical-align: middle;\n",
              "    }\n",
              "\n",
              "    .dataframe tbody tr th {\n",
              "        vertical-align: top;\n",
              "    }\n",
              "\n",
              "    .dataframe thead th {\n",
              "        text-align: right;\n",
              "    }\n",
              "</style>\n",
              "<table border=\"1\" class=\"dataframe\">\n",
              "  <thead>\n",
              "    <tr style=\"text-align: right;\">\n",
              "      <th></th>\n",
              "      <th>Global_active_power</th>\n",
              "      <th>Global_reactive_power</th>\n",
              "      <th>Voltage</th>\n",
              "      <th>Global_intensity</th>\n",
              "      <th>Sub_metering_1</th>\n",
              "      <th>Sub_metering_2</th>\n",
              "      <th>Sub_metering_3</th>\n",
              "    </tr>\n",
              "    <tr>\n",
              "      <th>date_time</th>\n",
              "      <th></th>\n",
              "      <th></th>\n",
              "      <th></th>\n",
              "      <th></th>\n",
              "      <th></th>\n",
              "      <th></th>\n",
              "      <th></th>\n",
              "    </tr>\n",
              "  </thead>\n",
              "  <tbody>\n",
              "    <tr>\n",
              "      <th>2006-12-16</th>\n",
              "      <td>1209.176</td>\n",
              "      <td>34.922</td>\n",
              "      <td>93552.53</td>\n",
              "      <td>5180.8</td>\n",
              "      <td>0.0</td>\n",
              "      <td>546.0</td>\n",
              "      <td>4926.0</td>\n",
              "    </tr>\n",
              "    <tr>\n",
              "      <th>2006-12-17</th>\n",
              "      <td>3390.460</td>\n",
              "      <td>226.006</td>\n",
              "      <td>345725.32</td>\n",
              "      <td>14398.6</td>\n",
              "      <td>2033.0</td>\n",
              "      <td>4187.0</td>\n",
              "      <td>13341.0</td>\n",
              "    </tr>\n",
              "    <tr>\n",
              "      <th>2006-12-18</th>\n",
              "      <td>2203.826</td>\n",
              "      <td>161.792</td>\n",
              "      <td>347373.64</td>\n",
              "      <td>9247.2</td>\n",
              "      <td>1063.0</td>\n",
              "      <td>2621.0</td>\n",
              "      <td>14018.0</td>\n",
              "    </tr>\n",
              "    <tr>\n",
              "      <th>2006-12-19</th>\n",
              "      <td>1666.194</td>\n",
              "      <td>150.942</td>\n",
              "      <td>348479.01</td>\n",
              "      <td>7094.0</td>\n",
              "      <td>839.0</td>\n",
              "      <td>7602.0</td>\n",
              "      <td>6197.0</td>\n",
              "    </tr>\n",
              "    <tr>\n",
              "      <th>2006-12-20</th>\n",
              "      <td>2225.748</td>\n",
              "      <td>160.998</td>\n",
              "      <td>348923.61</td>\n",
              "      <td>9313.0</td>\n",
              "      <td>0.0</td>\n",
              "      <td>2648.0</td>\n",
              "      <td>14063.0</td>\n",
              "    </tr>\n",
              "    <tr>\n",
              "      <th>2006-12-21</th>\n",
              "      <td>1723.288</td>\n",
              "      <td>144.434</td>\n",
              "      <td>347096.41</td>\n",
              "      <td>7266.4</td>\n",
              "      <td>1765.0</td>\n",
              "      <td>2692.0</td>\n",
              "      <td>10456.0</td>\n",
              "    </tr>\n",
              "    <tr>\n",
              "      <th>2006-12-22</th>\n",
              "      <td>2341.338</td>\n",
              "      <td>186.906</td>\n",
              "      <td>347305.75</td>\n",
              "      <td>9897.0</td>\n",
              "      <td>3151.0</td>\n",
              "      <td>350.0</td>\n",
              "      <td>11131.0</td>\n",
              "    </tr>\n",
              "    <tr>\n",
              "      <th>2006-12-23</th>\n",
              "      <td>4773.386</td>\n",
              "      <td>221.470</td>\n",
              "      <td>345795.95</td>\n",
              "      <td>20200.4</td>\n",
              "      <td>2669.0</td>\n",
              "      <td>425.0</td>\n",
              "      <td>14726.0</td>\n",
              "    </tr>\n",
              "    <tr>\n",
              "      <th>2006-12-24</th>\n",
              "      <td>2550.012</td>\n",
              "      <td>149.900</td>\n",
              "      <td>348029.91</td>\n",
              "      <td>11002.2</td>\n",
              "      <td>1703.0</td>\n",
              "      <td>5082.0</td>\n",
              "      <td>6891.0</td>\n",
              "    </tr>\n",
              "    <tr>\n",
              "      <th>2006-12-25</th>\n",
              "      <td>2743.120</td>\n",
              "      <td>240.280</td>\n",
              "      <td>350495.90</td>\n",
              "      <td>11450.2</td>\n",
              "      <td>6620.0</td>\n",
              "      <td>1962.0</td>\n",
              "      <td>5795.0</td>\n",
              "    </tr>\n",
              "    <tr>\n",
              "      <th>2006-12-26</th>\n",
              "      <td>3934.110</td>\n",
              "      <td>165.102</td>\n",
              "      <td>347940.63</td>\n",
              "      <td>16341.0</td>\n",
              "      <td>1086.0</td>\n",
              "      <td>2533.0</td>\n",
              "      <td>14979.0</td>\n",
              "    </tr>\n",
              "    <tr>\n",
              "      <th>2006-12-27</th>\n",
              "      <td>1528.760</td>\n",
              "      <td>178.902</td>\n",
              "      <td>351025.00</td>\n",
              "      <td>6505.2</td>\n",
              "      <td>0.0</td>\n",
              "      <td>314.0</td>\n",
              "      <td>6976.0</td>\n",
              "    </tr>\n",
              "    <tr>\n",
              "      <th>2006-12-28</th>\n",
              "      <td>2072.638</td>\n",
              "      <td>208.876</td>\n",
              "      <td>350306.40</td>\n",
              "      <td>8764.2</td>\n",
              "      <td>2207.0</td>\n",
              "      <td>4419.0</td>\n",
              "      <td>9176.0</td>\n",
              "    </tr>\n",
              "    <tr>\n",
              "      <th>2006-12-29</th>\n",
              "      <td>3174.392</td>\n",
              "      <td>196.394</td>\n",
              "      <td>346854.68</td>\n",
              "      <td>13350.8</td>\n",
              "      <td>1252.0</td>\n",
              "      <td>5162.0</td>\n",
              "      <td>11329.0</td>\n",
              "    </tr>\n",
              "    <tr>\n",
              "      <th>2006-12-30</th>\n",
              "      <td>2796.108</td>\n",
              "      <td>312.142</td>\n",
              "      <td>346377.15</td>\n",
              "      <td>11952.6</td>\n",
              "      <td>3072.0</td>\n",
              "      <td>7893.0</td>\n",
              "      <td>12516.0</td>\n",
              "    </tr>\n",
              "    <tr>\n",
              "      <th>2006-12-31</th>\n",
              "      <td>3494.196</td>\n",
              "      <td>150.852</td>\n",
              "      <td>345451.07</td>\n",
              "      <td>14687.4</td>\n",
              "      <td>0.0</td>\n",
              "      <td>347.0</td>\n",
              "      <td>6502.0</td>\n",
              "    </tr>\n",
              "  </tbody>\n",
              "</table>\n",
              "</div>"
            ],
            "text/plain": [
              "            Global_active_power  ...  Sub_metering_3\n",
              "date_time                        ...                \n",
              "2006-12-16             1209.176  ...          4926.0\n",
              "2006-12-17             3390.460  ...         13341.0\n",
              "2006-12-18             2203.826  ...         14018.0\n",
              "2006-12-19             1666.194  ...          6197.0\n",
              "2006-12-20             2225.748  ...         14063.0\n",
              "2006-12-21             1723.288  ...         10456.0\n",
              "2006-12-22             2341.338  ...         11131.0\n",
              "2006-12-23             4773.386  ...         14726.0\n",
              "2006-12-24             2550.012  ...          6891.0\n",
              "2006-12-25             2743.120  ...          5795.0\n",
              "2006-12-26             3934.110  ...         14979.0\n",
              "2006-12-27             1528.760  ...          6976.0\n",
              "2006-12-28             2072.638  ...          9176.0\n",
              "2006-12-29             3174.392  ...         11329.0\n",
              "2006-12-30             2796.108  ...         12516.0\n",
              "2006-12-31             3494.196  ...          6502.0\n",
              "\n",
              "[16 rows x 7 columns]"
            ]
          },
          "metadata": {
            "tags": []
          },
          "execution_count": 57
        }
      ]
    },
    {
      "cell_type": "code",
      "metadata": {
        "id": "JiE3NK78CSbd",
        "colab": {
          "base_uri": "https://localhost:8080/",
          "height": 1000
        },
        "outputId": "74e86263-0785-4e2d-e9ae-d7e15bf89847"
      },
      "source": [
        "fig, ax = plt.subplots(figsize=(18,18))\n",
        "\n",
        "for i in range(len(years)):\n",
        "    plt.subplot(len(years), 1, i+1)\n",
        "    year = years[i]\n",
        "    active_power_data = data[str(year)]\n",
        "    active_power_data['Global_active_power'].hist(bins = 200)\n",
        "    plt.title(str(year), y = 0, loc = 'left')\n",
        "plt.show()\n",
        "fig.tight_layout()\n"
      ],
      "execution_count": null,
      "outputs": [
        {
          "output_type": "display_data",
          "data": {
            "image/png": "[encoded data removed]",
            "text/plain": [
              "<Figure size 1296x1296 with 4 Axes>"
            ]
          },
          "metadata": {
            "tags": [],
            "needs_background": "light"
          }
        }
      ]
    },
    {
      "cell_type": "code",
      "metadata": {
        "id": "PcCTe-qlCS_J",
        "colab": {
          "base_uri": "https://localhost:8080/",
          "height": 1000
        },
        "outputId": "fcb04e30-8407-4537-8386-ac426a025c9c"
      },
      "source": [
        "fig, ax = plt.subplots(figsize=(18,18))\n",
        "\n",
        "for i in range(len(data.columns)):\n",
        "    plt.subplot(len(data.columns), 1, i+1)\n",
        "    name = data.columns[i]\n",
        "    data[name].hist(bins=200)\n",
        "    plt.title(name, y=0, loc = 'right')\n",
        "    plt.yticks([])\n",
        "plt.show()\n",
        "fig.tight_layout()"
      ],
      "execution_count": null,
      "outputs": [
        {
          "output_type": "display_data",
          "data": {
            "image/png": "[encoded data removed]",
            "text/plain": [
              "<Figure size 1296x1296 with 7 Axes>"
            ]
          },
          "metadata": {
            "tags": [],
            "needs_background": "light"
          }
        }
      ]
    },
    {
      "cell_type": "code",
      "metadata": {
        "id": "_Te4fFN7CWDE",
        "colab": {
          "base_uri": "https://localhost:8080/",
          "height": 69
        },
        "outputId": "6d23de76-4d66-49b9-e35c-ce4f0ec7081f"
      },
      "source": [
        "months = [i for i in range(1,13)]\n",
        "\n",
        "fig, ax = plt.subplots(figsize=(18,18))\n",
        "\n",
        "for i in range(len(months)):\n",
        "    ax = plt.subplot(len(months), 1, i+1)\n",
        "    month = '2007-' + str(months[i])\n",
        "    active_power_data = dataset[month]\n",
        "    active_power_data['Global_active_power'].hist(bins = 100)\n",
        "    ax.set_xlim(0,5)\n",
        "    plt.title(month, y = 0, loc = 'right')\n",
        "plt.show()\n",
        "fig.tight_layout()"
      ],
      "execution_count": null,
      "outputs": [
        {
          "output_type": "execute_result",
          "data": {
            "application/vnd.google.colaboratory.intrinsic+json": {
              "type": "string"
            },
            "text/plain": [
              "\"months = [i for i in range(1,13)]\\n\\nfig, ax = plt.subplots(figsize=(18,18))\\n\\nfor i in range(len(months)):\\n    ax = plt.subplot(len(months), 1, i+1)\\n    month = '2007-' + str(months[i])\\n    active_power_data = dataset[month]\\n    active_power_data['Global_active_power'].hist(bins = 100)\\n    ax.set_xlim(0,5)\\n    plt.title(month, y = 0, loc = 'right')\\nplt.show()\\nfig.tight_layout()\""
            ]
          },
          "metadata": {
            "tags": []
          },
          "execution_count": 100
        }
      ]
    },
    {
      "cell_type": "code",
      "metadata": {
        "id": "L4sQtdBpCYtx",
        "colab": {
          "base_uri": "https://localhost:8080/",
          "height": 225
        },
        "outputId": "826ce234-a1c6-4d3d-8b19-3f71242246d0"
      },
      "source": [
        "#top rows\n",
        "\n",
        "data.head()"
      ],
      "execution_count": null,
      "outputs": [
        {
          "output_type": "execute_result",
          "data": {
            "text/html": [
              "<div>\n",
              "<style scoped>\n",
              "    .dataframe tbody tr th:only-of-type {\n",
              "        vertical-align: middle;\n",
              "    }\n",
              "\n",
              "    .dataframe tbody tr th {\n",
              "        vertical-align: top;\n",
              "    }\n",
              "\n",
              "    .dataframe thead th {\n",
              "        text-align: right;\n",
              "    }\n",
              "</style>\n",
              "<table border=\"1\" class=\"dataframe\">\n",
              "  <thead>\n",
              "    <tr style=\"text-align: right;\">\n",
              "      <th></th>\n",
              "      <th>Global_active_power</th>\n",
              "      <th>Global_reactive_power</th>\n",
              "      <th>Voltage</th>\n",
              "      <th>Global_intensity</th>\n",
              "      <th>Sub_metering_1</th>\n",
              "      <th>Sub_metering_2</th>\n",
              "      <th>Sub_metering_3</th>\n",
              "    </tr>\n",
              "    <tr>\n",
              "      <th>date_time</th>\n",
              "      <th></th>\n",
              "      <th></th>\n",
              "      <th></th>\n",
              "      <th></th>\n",
              "      <th></th>\n",
              "      <th></th>\n",
              "      <th></th>\n",
              "    </tr>\n",
              "  </thead>\n",
              "  <tbody>\n",
              "    <tr>\n",
              "      <th>2006-12-16</th>\n",
              "      <td>1209.176</td>\n",
              "      <td>34.922</td>\n",
              "      <td>93552.53</td>\n",
              "      <td>5180.8</td>\n",
              "      <td>0.0</td>\n",
              "      <td>546.0</td>\n",
              "      <td>4926.0</td>\n",
              "    </tr>\n",
              "    <tr>\n",
              "      <th>2006-12-17</th>\n",
              "      <td>3390.460</td>\n",
              "      <td>226.006</td>\n",
              "      <td>345725.32</td>\n",
              "      <td>14398.6</td>\n",
              "      <td>2033.0</td>\n",
              "      <td>4187.0</td>\n",
              "      <td>13341.0</td>\n",
              "    </tr>\n",
              "    <tr>\n",
              "      <th>2006-12-18</th>\n",
              "      <td>2203.826</td>\n",
              "      <td>161.792</td>\n",
              "      <td>347373.64</td>\n",
              "      <td>9247.2</td>\n",
              "      <td>1063.0</td>\n",
              "      <td>2621.0</td>\n",
              "      <td>14018.0</td>\n",
              "    </tr>\n",
              "    <tr>\n",
              "      <th>2006-12-19</th>\n",
              "      <td>1666.194</td>\n",
              "      <td>150.942</td>\n",
              "      <td>348479.01</td>\n",
              "      <td>7094.0</td>\n",
              "      <td>839.0</td>\n",
              "      <td>7602.0</td>\n",
              "      <td>6197.0</td>\n",
              "    </tr>\n",
              "    <tr>\n",
              "      <th>2006-12-20</th>\n",
              "      <td>2225.748</td>\n",
              "      <td>160.998</td>\n",
              "      <td>348923.61</td>\n",
              "      <td>9313.0</td>\n",
              "      <td>0.0</td>\n",
              "      <td>2648.0</td>\n",
              "      <td>14063.0</td>\n",
              "    </tr>\n",
              "  </tbody>\n",
              "</table>\n",
              "</div>"
            ],
            "text/plain": [
              "            Global_active_power  ...  Sub_metering_3\n",
              "date_time                        ...                \n",
              "2006-12-16             1209.176  ...          4926.0\n",
              "2006-12-17             3390.460  ...         13341.0\n",
              "2006-12-18             2203.826  ...         14018.0\n",
              "2006-12-19             1666.194  ...          6197.0\n",
              "2006-12-20             2225.748  ...         14063.0\n",
              "\n",
              "[5 rows x 7 columns]"
            ]
          },
          "metadata": {
            "tags": []
          },
          "execution_count": 61
        }
      ]
    },
    {
      "cell_type": "code",
      "metadata": {
        "id": "kbA3N5DGCZTA",
        "colab": {
          "base_uri": "https://localhost:8080/",
          "height": 225
        },
        "outputId": "f2372ef3-072e-4b6a-a1c7-f2024a88594c"
      },
      "source": [
        "#printing last rows\n",
        "\n",
        "data.tail()"
      ],
      "execution_count": null,
      "outputs": [
        {
          "output_type": "execute_result",
          "data": {
            "text/html": [
              "<div>\n",
              "<style scoped>\n",
              "    .dataframe tbody tr th:only-of-type {\n",
              "        vertical-align: middle;\n",
              "    }\n",
              "\n",
              "    .dataframe tbody tr th {\n",
              "        vertical-align: top;\n",
              "    }\n",
              "\n",
              "    .dataframe thead th {\n",
              "        text-align: right;\n",
              "    }\n",
              "</style>\n",
              "<table border=\"1\" class=\"dataframe\">\n",
              "  <thead>\n",
              "    <tr style=\"text-align: right;\">\n",
              "      <th></th>\n",
              "      <th>Global_active_power</th>\n",
              "      <th>Global_reactive_power</th>\n",
              "      <th>Voltage</th>\n",
              "      <th>Global_intensity</th>\n",
              "      <th>Sub_metering_1</th>\n",
              "      <th>Sub_metering_2</th>\n",
              "      <th>Sub_metering_3</th>\n",
              "    </tr>\n",
              "    <tr>\n",
              "      <th>date_time</th>\n",
              "      <th></th>\n",
              "      <th></th>\n",
              "      <th></th>\n",
              "      <th></th>\n",
              "      <th></th>\n",
              "      <th></th>\n",
              "      <th></th>\n",
              "    </tr>\n",
              "  </thead>\n",
              "  <tbody>\n",
              "    <tr>\n",
              "      <th>2010-12-07</th>\n",
              "      <td>1109.574</td>\n",
              "      <td>285.912</td>\n",
              "      <td>345914.85</td>\n",
              "      <td>4892.0</td>\n",
              "      <td>1724.0</td>\n",
              "      <td>646.0</td>\n",
              "      <td>6444.0</td>\n",
              "    </tr>\n",
              "    <tr>\n",
              "      <th>2010-12-08</th>\n",
              "      <td>529.698</td>\n",
              "      <td>169.098</td>\n",
              "      <td>346744.70</td>\n",
              "      <td>2338.2</td>\n",
              "      <td>0.0</td>\n",
              "      <td>514.0</td>\n",
              "      <td>3982.0</td>\n",
              "    </tr>\n",
              "    <tr>\n",
              "      <th>2010-12-09</th>\n",
              "      <td>1612.092</td>\n",
              "      <td>201.358</td>\n",
              "      <td>347932.40</td>\n",
              "      <td>6848.2</td>\n",
              "      <td>1805.0</td>\n",
              "      <td>2080.0</td>\n",
              "      <td>8891.0</td>\n",
              "    </tr>\n",
              "    <tr>\n",
              "      <th>2010-12-10</th>\n",
              "      <td>1579.692</td>\n",
              "      <td>170.268</td>\n",
              "      <td>345975.37</td>\n",
              "      <td>6741.2</td>\n",
              "      <td>1104.0</td>\n",
              "      <td>780.0</td>\n",
              "      <td>9812.0</td>\n",
              "    </tr>\n",
              "    <tr>\n",
              "      <th>2010-12-11</th>\n",
              "      <td>1836.822</td>\n",
              "      <td>151.144</td>\n",
              "      <td>343926.57</td>\n",
              "      <td>7826.2</td>\n",
              "      <td>2054.0</td>\n",
              "      <td>489.0</td>\n",
              "      <td>10308.0</td>\n",
              "    </tr>\n",
              "  </tbody>\n",
              "</table>\n",
              "</div>"
            ],
            "text/plain": [
              "            Global_active_power  ...  Sub_metering_3\n",
              "date_time                        ...                \n",
              "2010-12-07             1109.574  ...          6444.0\n",
              "2010-12-08              529.698  ...          3982.0\n",
              "2010-12-09             1612.092  ...          8891.0\n",
              "2010-12-10             1579.692  ...          9812.0\n",
              "2010-12-11             1836.822  ...         10308.0\n",
              "\n",
              "[5 rows x 7 columns]"
            ]
          },
          "metadata": {
            "tags": []
          },
          "execution_count": 62
        }
      ]
    },
    {
      "cell_type": "code",
      "metadata": {
        "id": "CWDv2Q1mCZKR",
        "colab": {
          "base_uri": "https://localhost:8080/"
        },
        "outputId": "fee021be-0826-4f2c-dbc7-6d05cbbde1fb"
      },
      "source": [
        "#here are splitting the dataset\n",
        "#dataset upto end of 2009 is in train dataset and remaining we keeping it in test dataset\n",
        "\n",
        "data_train = data.loc[:'2009-12-31', :]['Global_active_power']\n",
        "data_train.head()"
      ],
      "execution_count": null,
      "outputs": [
        {
          "output_type": "execute_result",
          "data": {
            "text/plain": [
              "date_time\n",
              "2006-12-16    1209.176\n",
              "2006-12-17    3390.460\n",
              "2006-12-18    2203.826\n",
              "2006-12-19    1666.194\n",
              "2006-12-20    2225.748\n",
              "Freq: D, Name: Global_active_power, dtype: float64"
            ]
          },
          "metadata": {
            "tags": []
          },
          "execution_count": 63
        }
      ]
    },
    {
      "cell_type": "code",
      "metadata": {
        "id": "gnSz83NuCdD2",
        "colab": {
          "base_uri": "https://localhost:8080/"
        },
        "outputId": "b1a6bb37-1210-4538-d815-bd48af84ec4b"
      },
      "source": [
        "data_test = data['2010']['Global_active_power']\n",
        "data_test.head()"
      ],
      "execution_count": null,
      "outputs": [
        {
          "output_type": "execute_result",
          "data": {
            "text/plain": [
              "date_time\n",
              "2010-01-01    1224.252\n",
              "2010-01-02    1693.778\n",
              "2010-01-03    1298.728\n",
              "2010-01-04    1687.440\n",
              "2010-01-05    1320.158\n",
              "Freq: D, Name: Global_active_power, dtype: float64"
            ]
          },
          "metadata": {
            "tags": []
          },
          "execution_count": 64
        }
      ]
    },
    {
      "cell_type": "code",
      "metadata": {
        "id": "TObV1QjvCfQZ",
        "colab": {
          "base_uri": "https://localhost:8080/"
        },
        "outputId": "8b9135b7-3e60-4231-8d78-e3532be97eda"
      },
      "source": [
        "data_train.shape\n"
      ],
      "execution_count": null,
      "outputs": [
        {
          "output_type": "execute_result",
          "data": {
            "text/plain": [
              "(1112,)"
            ]
          },
          "metadata": {
            "tags": []
          },
          "execution_count": 65
        }
      ]
    },
    {
      "cell_type": "code",
      "metadata": {
        "id": "2yC-O1nSChl6",
        "colab": {
          "base_uri": "https://localhost:8080/"
        },
        "outputId": "9b7b9506-4c25-4864-a346-f9c5a2c3e1bb"
      },
      "source": [
        "data_test.shape\n"
      ],
      "execution_count": null,
      "outputs": [
        {
          "output_type": "execute_result",
          "data": {
            "text/plain": [
              "(345,)"
            ]
          },
          "metadata": {
            "tags": []
          },
          "execution_count": 66
        }
      ]
    },
    {
      "cell_type": "code",
      "metadata": {
        "id": "wJ1eDRJrCkZe",
        "colab": {
          "base_uri": "https://localhost:8080/"
        },
        "outputId": "cd735d92-f8da-48f3-9bbc-4d93011f1677"
      },
      "source": [
        "#training data\n",
        "\n",
        "data_train.head(14)"
      ],
      "execution_count": null,
      "outputs": [
        {
          "output_type": "execute_result",
          "data": {
            "text/plain": [
              "date_time\n",
              "2006-12-16    1209.176\n",
              "2006-12-17    3390.460\n",
              "2006-12-18    2203.826\n",
              "2006-12-19    1666.194\n",
              "2006-12-20    2225.748\n",
              "2006-12-21    1723.288\n",
              "2006-12-22    2341.338\n",
              "2006-12-23    4773.386\n",
              "2006-12-24    2550.012\n",
              "2006-12-25    2743.120\n",
              "2006-12-26    3934.110\n",
              "2006-12-27    1528.760\n",
              "2006-12-28    2072.638\n",
              "2006-12-29    3174.392\n",
              "Freq: D, Name: Global_active_power, dtype: float64"
            ]
          },
          "metadata": {
            "tags": []
          },
          "execution_count": 67
        }
      ]
    },
    {
      "cell_type": "code",
      "metadata": {
        "id": "dCO2q-LMCltj"
      },
      "source": [
        "#converting the data into numpy array\n",
        "\n",
        "data_train = np.array(data_train)"
      ],
      "execution_count": null,
      "outputs": []
    },
    {
      "cell_type": "code",
      "metadata": {
        "id": "CxdNXzrTCmU6"
      },
      "source": [
        "#we are splitting the data weekly wise(7days)\n",
        "\n",
        "X_train, y_train = [], []\n",
        "\n",
        "for i in range(7, len(data_train)-7):\n",
        "    X_train.append(data_train[i-7:i])\n",
        "    y_train.append(data_train[i:i+7])"
      ],
      "execution_count": null,
      "outputs": []
    },
    {
      "cell_type": "code",
      "metadata": {
        "id": "VC9_jQOgCpLH"
      },
      "source": [
        "#converting list to numpy array\n",
        "\n",
        "X_train, y_train = np.array(X_train), np.array(y_train)"
      ],
      "execution_count": null,
      "outputs": []
    },
    {
      "cell_type": "code",
      "metadata": {
        "id": "u5e80ICPCpq3",
        "colab": {
          "base_uri": "https://localhost:8080/"
        },
        "outputId": "f9be0f3f-7675-495e-fbd4-92c3c79de95f"
      },
      "source": [
        "#shape of train and test dataset\n",
        "\n",
        "X_train.shape, y_train.shape"
      ],
      "execution_count": null,
      "outputs": [
        {
          "output_type": "execute_result",
          "data": {
            "text/plain": [
              "((1098, 7), (1098, 7))"
            ]
          },
          "metadata": {
            "tags": []
          },
          "execution_count": 71
        }
      ]
    },
    {
      "cell_type": "code",
      "metadata": {
        "id": "nwCM9kLkCr2Y",
        "colab": {
          "base_uri": "https://localhost:8080/",
          "height": 195
        },
        "outputId": "9e374750-2eac-4411-aa48-70e275316905"
      },
      "source": [
        "#printing the ytrain value\n",
        "\n",
        "pd.DataFrame(y_train).head()"
      ],
      "execution_count": null,
      "outputs": [
        {
          "output_type": "execute_result",
          "data": {
            "text/html": [
              "<div>\n",
              "<style scoped>\n",
              "    .dataframe tbody tr th:only-of-type {\n",
              "        vertical-align: middle;\n",
              "    }\n",
              "\n",
              "    .dataframe tbody tr th {\n",
              "        vertical-align: top;\n",
              "    }\n",
              "\n",
              "    .dataframe thead th {\n",
              "        text-align: right;\n",
              "    }\n",
              "</style>\n",
              "<table border=\"1\" class=\"dataframe\">\n",
              "  <thead>\n",
              "    <tr style=\"text-align: right;\">\n",
              "      <th></th>\n",
              "      <th>0</th>\n",
              "      <th>1</th>\n",
              "      <th>2</th>\n",
              "      <th>3</th>\n",
              "      <th>4</th>\n",
              "      <th>5</th>\n",
              "      <th>6</th>\n",
              "    </tr>\n",
              "  </thead>\n",
              "  <tbody>\n",
              "    <tr>\n",
              "      <th>0</th>\n",
              "      <td>4773.386</td>\n",
              "      <td>2550.012</td>\n",
              "      <td>2743.120</td>\n",
              "      <td>3934.110</td>\n",
              "      <td>1528.760</td>\n",
              "      <td>2072.638</td>\n",
              "      <td>3174.392</td>\n",
              "    </tr>\n",
              "    <tr>\n",
              "      <th>1</th>\n",
              "      <td>2550.012</td>\n",
              "      <td>2743.120</td>\n",
              "      <td>3934.110</td>\n",
              "      <td>1528.760</td>\n",
              "      <td>2072.638</td>\n",
              "      <td>3174.392</td>\n",
              "      <td>2796.108</td>\n",
              "    </tr>\n",
              "    <tr>\n",
              "      <th>2</th>\n",
              "      <td>2743.120</td>\n",
              "      <td>3934.110</td>\n",
              "      <td>1528.760</td>\n",
              "      <td>2072.638</td>\n",
              "      <td>3174.392</td>\n",
              "      <td>2796.108</td>\n",
              "      <td>3494.196</td>\n",
              "    </tr>\n",
              "    <tr>\n",
              "      <th>3</th>\n",
              "      <td>3934.110</td>\n",
              "      <td>1528.760</td>\n",
              "      <td>2072.638</td>\n",
              "      <td>3174.392</td>\n",
              "      <td>2796.108</td>\n",
              "      <td>3494.196</td>\n",
              "      <td>2749.004</td>\n",
              "    </tr>\n",
              "    <tr>\n",
              "      <th>4</th>\n",
              "      <td>1528.760</td>\n",
              "      <td>2072.638</td>\n",
              "      <td>3174.392</td>\n",
              "      <td>2796.108</td>\n",
              "      <td>3494.196</td>\n",
              "      <td>2749.004</td>\n",
              "      <td>1824.760</td>\n",
              "    </tr>\n",
              "  </tbody>\n",
              "</table>\n",
              "</div>"
            ],
            "text/plain": [
              "          0         1         2         3         4         5         6\n",
              "0  4773.386  2550.012  2743.120  3934.110  1528.760  2072.638  3174.392\n",
              "1  2550.012  2743.120  3934.110  1528.760  2072.638  3174.392  2796.108\n",
              "2  2743.120  3934.110  1528.760  2072.638  3174.392  2796.108  3494.196\n",
              "3  3934.110  1528.760  2072.638  3174.392  2796.108  3494.196  2749.004\n",
              "4  1528.760  2072.638  3174.392  2796.108  3494.196  2749.004  1824.760"
            ]
          },
          "metadata": {
            "tags": []
          },
          "execution_count": 72
        }
      ]
    },
    {
      "cell_type": "code",
      "metadata": {
        "id": "VbkLqTt5CtgD"
      },
      "source": [
        "#Normalising the dataset between 0 and 1\n",
        "\n",
        "x_scaler = MinMaxScaler()\n",
        "X_train = x_scaler.fit_transform(X_train)"
      ],
      "execution_count": null,
      "outputs": []
    },
    {
      "cell_type": "code",
      "metadata": {
        "id": "QTIBbID3CvXf"
      },
      "source": [
        "#Normalising the dataset\n",
        "\n",
        "y_scaler = MinMaxScaler()\n",
        "y_train = y_scaler.fit_transform(y_train)"
      ],
      "execution_count": null,
      "outputs": []
    },
    {
      "cell_type": "code",
      "metadata": {
        "id": "AHU4yX7CCw31",
        "colab": {
          "base_uri": "https://localhost:8080/",
          "height": 195
        },
        "outputId": "4da62732-eeec-482a-b4aa-1472eaf752a5"
      },
      "source": [
        "pd.DataFrame(X_train).head()"
      ],
      "execution_count": null,
      "outputs": [
        {
          "output_type": "execute_result",
          "data": {
            "text/html": [
              "<div>\n",
              "<style scoped>\n",
              "    .dataframe tbody tr th:only-of-type {\n",
              "        vertical-align: middle;\n",
              "    }\n",
              "\n",
              "    .dataframe tbody tr th {\n",
              "        vertical-align: top;\n",
              "    }\n",
              "\n",
              "    .dataframe thead th {\n",
              "        text-align: right;\n",
              "    }\n",
              "</style>\n",
              "<table border=\"1\" class=\"dataframe\">\n",
              "  <thead>\n",
              "    <tr style=\"text-align: right;\">\n",
              "      <th></th>\n",
              "      <th>0</th>\n",
              "      <th>1</th>\n",
              "      <th>2</th>\n",
              "      <th>3</th>\n",
              "      <th>4</th>\n",
              "      <th>5</th>\n",
              "      <th>6</th>\n",
              "    </tr>\n",
              "  </thead>\n",
              "  <tbody>\n",
              "    <tr>\n",
              "      <th>0</th>\n",
              "      <td>0.211996</td>\n",
              "      <td>0.694252</td>\n",
              "      <td>0.431901</td>\n",
              "      <td>0.313037</td>\n",
              "      <td>0.436748</td>\n",
              "      <td>0.325660</td>\n",
              "      <td>0.462304</td>\n",
              "    </tr>\n",
              "    <tr>\n",
              "      <th>1</th>\n",
              "      <td>0.694252</td>\n",
              "      <td>0.431901</td>\n",
              "      <td>0.313037</td>\n",
              "      <td>0.436748</td>\n",
              "      <td>0.325660</td>\n",
              "      <td>0.462304</td>\n",
              "      <td>1.000000</td>\n",
              "    </tr>\n",
              "    <tr>\n",
              "      <th>2</th>\n",
              "      <td>0.431901</td>\n",
              "      <td>0.313037</td>\n",
              "      <td>0.436748</td>\n",
              "      <td>0.325660</td>\n",
              "      <td>0.462304</td>\n",
              "      <td>1.000000</td>\n",
              "      <td>0.508439</td>\n",
              "    </tr>\n",
              "    <tr>\n",
              "      <th>3</th>\n",
              "      <td>0.313037</td>\n",
              "      <td>0.436748</td>\n",
              "      <td>0.325660</td>\n",
              "      <td>0.462304</td>\n",
              "      <td>1.000000</td>\n",
              "      <td>0.508439</td>\n",
              "      <td>0.551133</td>\n",
              "    </tr>\n",
              "    <tr>\n",
              "      <th>4</th>\n",
              "      <td>0.436748</td>\n",
              "      <td>0.325660</td>\n",
              "      <td>0.462304</td>\n",
              "      <td>1.000000</td>\n",
              "      <td>0.508439</td>\n",
              "      <td>0.551133</td>\n",
              "      <td>0.814446</td>\n",
              "    </tr>\n",
              "  </tbody>\n",
              "</table>\n",
              "</div>"
            ],
            "text/plain": [
              "          0         1         2         3         4         5         6\n",
              "0  0.211996  0.694252  0.431901  0.313037  0.436748  0.325660  0.462304\n",
              "1  0.694252  0.431901  0.313037  0.436748  0.325660  0.462304  1.000000\n",
              "2  0.431901  0.313037  0.436748  0.325660  0.462304  1.000000  0.508439\n",
              "3  0.313037  0.436748  0.325660  0.462304  1.000000  0.508439  0.551133\n",
              "4  0.436748  0.325660  0.462304  1.000000  0.508439  0.551133  0.814446"
            ]
          },
          "metadata": {
            "tags": []
          },
          "execution_count": 75
        }
      ]
    },
    {
      "cell_type": "code",
      "metadata": {
        "id": "7b7-Xll4Cyp3"
      },
      "source": [
        "#converting to 3 dimension\n",
        "\n",
        "X_train = X_train.reshape(1098, 7, 1)"
      ],
      "execution_count": null,
      "outputs": []
    },
    {
      "cell_type": "code",
      "metadata": {
        "id": "7NeAGBXICz8e",
        "colab": {
          "base_uri": "https://localhost:8080/"
        },
        "outputId": "cfa0d403-50a6-4944-8c0c-4e01f35950ff"
      },
      "source": [
        "X_train.shape\n"
      ],
      "execution_count": null,
      "outputs": [
        {
          "output_type": "execute_result",
          "data": {
            "text/plain": [
              "(1098, 7, 1)"
            ]
          },
          "metadata": {
            "tags": []
          },
          "execution_count": 77
        }
      ]
    },
    {
      "cell_type": "code",
      "metadata": {
        "id": "nN3P6CreC1mK"
      },
      "source": [
        "#building sequential model using Keras\n",
        "\n",
        "reg = Sequential()\n",
        "reg.add(LSTM(units = 200, activation = 'relu', input_shape=(7,1)))\n",
        "reg.add(Dense(7))"
      ],
      "execution_count": null,
      "outputs": []
    },
    {
      "cell_type": "code",
      "metadata": {
        "id": "4po97nPzC21k"
      },
      "source": [
        "#here we have considered loss as mean square error and optimizer as adam\n",
        "\n",
        "reg.compile(loss='mse', optimizer='adam')"
      ],
      "execution_count": null,
      "outputs": []
    },
    {
      "cell_type": "code",
      "metadata": {
        "id": "t5cKS1JyC30H",
        "colab": {
          "base_uri": "https://localhost:8080/"
        },
        "outputId": "ab836ba6-9584-409c-e4e1-cd2efcedd4b3"
      },
      "source": [
        "#training the model\n",
        "\n",
        "reg.fit(X_train, y_train, epochs = 100)"
      ],
      "execution_count": null,
      "outputs": [
        {
          "output_type": "stream",
          "text": [
            "Epoch 1/100\n",
            "35/35 [==============================] - 2s 15ms/step - loss: 0.0938\n",
            "Epoch 2/100\n",
            "35/35 [==============================] - 1s 15ms/step - loss: 0.0252\n",
            "Epoch 3/100\n",
            "35/35 [==============================] - 1s 16ms/step - loss: 0.0249\n",
            "Epoch 4/100\n",
            "35/35 [==============================] - 1s 18ms/step - loss: 0.0244\n",
            "Epoch 5/100\n",
            "35/35 [==============================] - 1s 19ms/step - loss: 0.0241\n",
            "Epoch 6/100\n",
            "35/35 [==============================] - 1s 19ms/step - loss: 0.0245\n",
            "Epoch 7/100\n",
            "35/35 [==============================] - 1s 20ms/step - loss: 0.0236\n",
            "Epoch 8/100\n",
            "35/35 [==============================] - 1s 19ms/step - loss: 0.0235\n",
            "Epoch 9/100\n",
            "35/35 [==============================] - 1s 19ms/step - loss: 0.0236\n",
            "Epoch 10/100\n",
            "35/35 [==============================] - 1s 19ms/step - loss: 0.0234\n",
            "Epoch 11/100\n",
            "35/35 [==============================] - 1s 19ms/step - loss: 0.0239\n",
            "Epoch 12/100\n",
            "35/35 [==============================] - 1s 19ms/step - loss: 0.0237\n",
            "Epoch 13/100\n",
            "35/35 [==============================] - 1s 19ms/step - loss: 0.0241\n",
            "Epoch 14/100\n",
            "35/35 [==============================] - 1s 18ms/step - loss: 0.0233\n",
            "Epoch 15/100\n",
            "35/35 [==============================] - 1s 18ms/step - loss: 0.0233\n",
            "Epoch 16/100\n",
            "35/35 [==============================] - 1s 17ms/step - loss: 0.0228\n",
            "Epoch 17/100\n",
            "35/35 [==============================] - 1s 17ms/step - loss: 0.0243\n",
            "Epoch 18/100\n",
            "35/35 [==============================] - 1s 18ms/step - loss: 0.0231\n",
            "Epoch 19/100\n",
            "35/35 [==============================] - 1s 18ms/step - loss: 0.0237\n",
            "Epoch 20/100\n",
            "35/35 [==============================] - 1s 17ms/step - loss: 0.0233\n",
            "Epoch 21/100\n",
            "35/35 [==============================] - 1s 18ms/step - loss: 0.0233\n",
            "Epoch 22/100\n",
            "35/35 [==============================] - 1s 18ms/step - loss: 0.0240\n",
            "Epoch 23/100\n",
            "35/35 [==============================] - 1s 19ms/step - loss: 0.0239\n",
            "Epoch 24/100\n",
            "35/35 [==============================] - 1s 18ms/step - loss: 0.0226\n",
            "Epoch 25/100\n",
            "35/35 [==============================] - 1s 18ms/step - loss: 0.0240\n",
            "Epoch 26/100\n",
            "35/35 [==============================] - 1s 18ms/step - loss: 0.0228\n",
            "Epoch 27/100\n",
            "35/35 [==============================] - 1s 18ms/step - loss: 0.0233\n",
            "Epoch 28/100\n",
            "35/35 [==============================] - 1s 19ms/step - loss: 0.0241\n",
            "Epoch 29/100\n",
            "35/35 [==============================] - 1s 18ms/step - loss: 0.0230\n",
            "Epoch 30/100\n",
            "35/35 [==============================] - 1s 19ms/step - loss: 0.0242\n",
            "Epoch 31/100\n",
            "35/35 [==============================] - 1s 19ms/step - loss: 0.0228\n",
            "Epoch 32/100\n",
            "35/35 [==============================] - 1s 18ms/step - loss: 0.0229\n",
            "Epoch 33/100\n",
            "35/35 [==============================] - 1s 19ms/step - loss: 0.0230\n",
            "Epoch 34/100\n",
            "35/35 [==============================] - 1s 19ms/step - loss: 0.0222\n",
            "Epoch 35/100\n",
            "35/35 [==============================] - 1s 19ms/step - loss: 0.0237\n",
            "Epoch 36/100\n",
            "35/35 [==============================] - 1s 18ms/step - loss: 0.0232\n",
            "Epoch 37/100\n",
            "35/35 [==============================] - 1s 18ms/step - loss: 0.0234\n",
            "Epoch 38/100\n",
            "35/35 [==============================] - 1s 18ms/step - loss: 0.0226\n",
            "Epoch 39/100\n",
            "35/35 [==============================] - 1s 19ms/step - loss: 0.0226\n",
            "Epoch 40/100\n",
            "35/35 [==============================] - 1s 18ms/step - loss: 0.0232\n",
            "Epoch 41/100\n",
            "35/35 [==============================] - 1s 17ms/step - loss: 0.0237\n",
            "Epoch 42/100\n",
            "35/35 [==============================] - 1s 18ms/step - loss: 0.0229\n",
            "Epoch 43/100\n",
            "35/35 [==============================] - 1s 18ms/step - loss: 0.0234\n",
            "Epoch 44/100\n",
            "35/35 [==============================] - 1s 18ms/step - loss: 0.0234\n",
            "Epoch 45/100\n",
            "35/35 [==============================] - 1s 18ms/step - loss: 0.0228\n",
            "Epoch 46/100\n",
            "35/35 [==============================] - 1s 18ms/step - loss: 0.0232\n",
            "Epoch 47/100\n",
            "35/35 [==============================] - 1s 18ms/step - loss: 0.0223\n",
            "Epoch 48/100\n",
            "35/35 [==============================] - 1s 18ms/step - loss: 0.0229\n",
            "Epoch 49/100\n",
            "35/35 [==============================] - 1s 19ms/step - loss: 0.0233\n",
            "Epoch 50/100\n",
            "35/35 [==============================] - 1s 18ms/step - loss: 0.0231\n",
            "Epoch 51/100\n",
            "35/35 [==============================] - 1s 18ms/step - loss: 0.0243\n",
            "Epoch 52/100\n",
            "35/35 [==============================] - 1s 18ms/step - loss: 0.0238\n",
            "Epoch 53/100\n",
            "35/35 [==============================] - 1s 19ms/step - loss: 0.0229\n",
            "Epoch 54/100\n",
            "35/35 [==============================] - 1s 18ms/step - loss: 0.0231\n",
            "Epoch 55/100\n",
            "35/35 [==============================] - 1s 17ms/step - loss: 0.0227\n",
            "Epoch 56/100\n",
            "35/35 [==============================] - 1s 18ms/step - loss: 0.0234\n",
            "Epoch 57/100\n",
            "35/35 [==============================] - 1s 18ms/step - loss: 0.0226\n",
            "Epoch 58/100\n",
            "35/35 [==============================] - 1s 18ms/step - loss: 0.0225\n",
            "Epoch 59/100\n",
            "35/35 [==============================] - 1s 18ms/step - loss: 0.0226\n",
            "Epoch 60/100\n",
            "35/35 [==============================] - 1s 18ms/step - loss: 0.0238\n",
            "Epoch 61/100\n",
            "35/35 [==============================] - 1s 18ms/step - loss: 0.0227\n",
            "Epoch 62/100\n",
            "35/35 [==============================] - 1s 19ms/step - loss: 0.0229\n",
            "Epoch 63/100\n",
            "35/35 [==============================] - 1s 19ms/step - loss: 0.0228\n",
            "Epoch 64/100\n",
            "35/35 [==============================] - 1s 18ms/step - loss: 0.0229\n",
            "Epoch 65/100\n",
            "35/35 [==============================] - 1s 18ms/step - loss: 0.0236\n",
            "Epoch 66/100\n",
            "35/35 [==============================] - 1s 18ms/step - loss: 0.0222\n",
            "Epoch 67/100\n",
            "35/35 [==============================] - 1s 18ms/step - loss: 0.0231\n",
            "Epoch 68/100\n",
            "35/35 [==============================] - 1s 18ms/step - loss: 0.0232\n",
            "Epoch 69/100\n",
            "35/35 [==============================] - 1s 18ms/step - loss: 0.0229\n",
            "Epoch 70/100\n",
            "35/35 [==============================] - 1s 18ms/step - loss: 0.0226\n",
            "Epoch 71/100\n",
            "35/35 [==============================] - 1s 18ms/step - loss: 0.0227\n",
            "Epoch 72/100\n",
            "35/35 [==============================] - 1s 18ms/step - loss: 0.0238\n",
            "Epoch 73/100\n",
            "35/35 [==============================] - 1s 18ms/step - loss: 0.0220\n",
            "Epoch 74/100\n",
            "35/35 [==============================] - 1s 18ms/step - loss: 0.0232\n",
            "Epoch 75/100\n",
            "35/35 [==============================] - 1s 19ms/step - loss: 0.0220\n",
            "Epoch 76/100\n",
            "35/35 [==============================] - 1s 18ms/step - loss: 0.0227\n",
            "Epoch 77/100\n",
            "35/35 [==============================] - 1s 18ms/step - loss: 0.0236\n",
            "Epoch 78/100\n",
            "35/35 [==============================] - 1s 18ms/step - loss: 0.0244\n",
            "Epoch 79/100\n",
            "35/35 [==============================] - 1s 19ms/step - loss: 0.0219\n",
            "Epoch 80/100\n",
            "35/35 [==============================] - 1s 18ms/step - loss: 0.0219\n",
            "Epoch 81/100\n",
            "35/35 [==============================] - 1s 18ms/step - loss: 0.0236\n",
            "Epoch 82/100\n",
            "35/35 [==============================] - 1s 18ms/step - loss: 0.0228\n",
            "Epoch 83/100\n",
            "35/35 [==============================] - 1s 18ms/step - loss: 0.0230\n",
            "Epoch 84/100\n",
            "35/35 [==============================] - 1s 18ms/step - loss: 0.0225\n",
            "Epoch 85/100\n",
            "35/35 [==============================] - 1s 17ms/step - loss: 0.0236\n",
            "Epoch 86/100\n",
            "35/35 [==============================] - 1s 18ms/step - loss: 0.0229\n",
            "Epoch 87/100\n",
            "35/35 [==============================] - 1s 18ms/step - loss: 0.0231\n",
            "Epoch 88/100\n",
            "35/35 [==============================] - 1s 18ms/step - loss: 0.0222\n",
            "Epoch 89/100\n",
            "35/35 [==============================] - 1s 18ms/step - loss: 0.0226\n",
            "Epoch 90/100\n",
            "35/35 [==============================] - 1s 20ms/step - loss: 0.0227\n",
            "Epoch 91/100\n",
            "35/35 [==============================] - 1s 19ms/step - loss: 0.0236\n",
            "Epoch 92/100\n",
            "35/35 [==============================] - 1s 18ms/step - loss: 0.0225\n",
            "Epoch 93/100\n",
            "35/35 [==============================] - 1s 18ms/step - loss: 0.0234\n",
            "Epoch 94/100\n",
            "35/35 [==============================] - 1s 18ms/step - loss: 0.0224\n",
            "Epoch 95/100\n",
            "35/35 [==============================] - 1s 18ms/step - loss: 0.0222\n",
            "Epoch 96/100\n",
            "35/35 [==============================] - 1s 18ms/step - loss: 0.0232\n",
            "Epoch 97/100\n",
            "35/35 [==============================] - 1s 18ms/step - loss: 0.0229\n",
            "Epoch 98/100\n",
            "35/35 [==============================] - 1s 18ms/step - loss: 0.0226\n",
            "Epoch 99/100\n",
            "35/35 [==============================] - 1s 18ms/step - loss: 0.0224\n",
            "Epoch 100/100\n",
            "35/35 [==============================] - 1s 18ms/step - loss: 0.0226\n"
          ],
          "name": "stdout"
        },
        {
          "output_type": "execute_result",
          "data": {
            "text/plain": [
              "<tensorflow.python.keras.callbacks.History at 0x7fdae994d0d0>"
            ]
          },
          "metadata": {
            "tags": []
          },
          "execution_count": 80
        }
      ]
    },
    {
      "cell_type": "code",
      "metadata": {
        "id": "t_if6rRIC5rW"
      },
      "source": [
        "#testing dataset\n",
        "\n",
        "data_test = np.array(data_test)"
      ],
      "execution_count": null,
      "outputs": []
    },
    {
      "cell_type": "code",
      "metadata": {
        "id": "fnPSAdBcC7g7"
      },
      "source": [
        "#here we are splitting the data weekly wise(7days)\n",
        "\n",
        "X_test, y_test = [], []\n",
        "\n",
        "for i in range(7, len(data_test)-7):\n",
        "    X_test.append(data_test[i-7:i])\n",
        "    y_test.append(data_test[i:i+7])\n"
      ],
      "execution_count": null,
      "outputs": []
    },
    {
      "cell_type": "code",
      "metadata": {
        "id": "Zd4U5TLgC9jh"
      },
      "source": [
        "X_test, y_test = np.array(X_test), np.array(y_test)\n"
      ],
      "execution_count": null,
      "outputs": []
    },
    {
      "cell_type": "code",
      "metadata": {
        "id": "DRwJerz8C_2c"
      },
      "source": [
        "X_test = x_scaler.transform(X_test)\n",
        "y_test = y_scaler.transform(y_test)"
      ],
      "execution_count": null,
      "outputs": []
    },
    {
      "cell_type": "code",
      "metadata": {
        "id": "R7Fa46HcDA0U"
      },
      "source": [
        "#converting to 3 dimension\n",
        "\n",
        "X_test = X_test.reshape(331,7,1)"
      ],
      "execution_count": null,
      "outputs": []
    },
    {
      "cell_type": "code",
      "metadata": {
        "id": "D6wYk91mDCXa",
        "colab": {
          "base_uri": "https://localhost:8080/"
        },
        "outputId": "2c751382-e421-461b-a94a-2da6ef947912"
      },
      "source": [
        "X_test.shape\n"
      ],
      "execution_count": null,
      "outputs": [
        {
          "output_type": "execute_result",
          "data": {
            "text/plain": [
              "(331, 7, 1)"
            ]
          },
          "metadata": {
            "tags": []
          },
          "execution_count": 86
        }
      ]
    },
    {
      "cell_type": "code",
      "metadata": {
        "id": "cQUyIGI4DDt7"
      },
      "source": [
        "y_pred = reg.predict(X_test)"
      ],
      "execution_count": null,
      "outputs": []
    },
    {
      "cell_type": "code",
      "metadata": {
        "id": "5hKt1tI4DE2W"
      },
      "source": [
        "#bringing y_pred values to their original forms by using inverse transform\n",
        "\n",
        "y_pred = y_scaler.inverse_transform(y_pred)"
      ],
      "execution_count": null,
      "outputs": []
    },
    {
      "cell_type": "code",
      "metadata": {
        "id": "h8jV6gIbDGIa",
        "colab": {
          "base_uri": "https://localhost:8080/"
        },
        "outputId": "e8099850-0542-4520-d41a-a544f79d484b"
      },
      "source": [
        "y_pred\n"
      ],
      "execution_count": null,
      "outputs": [
        {
          "output_type": "execute_result",
          "data": {
            "text/plain": [
              "array([[1489.0005 , 1462.1644 , 1562.8921 , ..., 1617.4553 , 1526.9575 ,\n",
              "        1520.9246 ],\n",
              "       [1167.2042 , 1263.9424 , 1417.277  , ..., 1535.201  , 1466.6355 ,\n",
              "        1451.9823 ],\n",
              "       [1555.065  , 1492.9686 , 1586.599  , ..., 1611.0781 , 1472.0146 ,\n",
              "        1459.2822 ],\n",
              "       ...,\n",
              "       [ 865.2839 ,  842.37756,  936.1895 , ...,  935.46313,  704.4569 ,\n",
              "         654.8552 ],\n",
              "       [1564.2461 , 1399.1432 , 1350.192  , ..., 1171.0911 ,  954.29834,\n",
              "         981.3184 ],\n",
              "       [1625.5665 , 1413.3225 , 1366.0596 , ..., 1230.8398 , 1087.4441 ,\n",
              "        1165.4926 ]], dtype=float32)"
            ]
          },
          "metadata": {
            "tags": []
          },
          "execution_count": 89
        }
      ]
    },
    {
      "cell_type": "code",
      "metadata": {
        "id": "S9aZ3kMgDHsP"
      },
      "source": [
        "y_true = y_scaler.inverse_transform(y_test)\n"
      ],
      "execution_count": null,
      "outputs": []
    },
    {
      "cell_type": "code",
      "metadata": {
        "id": "SDIHrkcWDJD9",
        "colab": {
          "base_uri": "https://localhost:8080/"
        },
        "outputId": "11b76225-448e-4ba8-eedd-0a6ed6c55dee"
      },
      "source": [
        "y_true\n"
      ],
      "execution_count": null,
      "outputs": [
        {
          "output_type": "execute_result",
          "data": {
            "text/plain": [
              "array([[ 555.664, 1593.318, 1504.82 , ...,    0.   , 1995.796, 2116.224],\n",
              "       [1593.318, 1504.82 , 1383.18 , ..., 1995.796, 2116.224, 2196.76 ],\n",
              "       [1504.82 , 1383.18 ,    0.   , ..., 2116.224, 2196.76 , 2150.112],\n",
              "       ...,\n",
              "       [1892.998, 1645.424, 1439.426, ..., 1973.382, 1109.574,  529.698],\n",
              "       [1645.424, 1439.426, 2035.418, ..., 1109.574,  529.698, 1612.092],\n",
              "       [1439.426, 2035.418, 1973.382, ...,  529.698, 1612.092, 1579.692]])"
            ]
          },
          "metadata": {
            "tags": []
          },
          "execution_count": 91
        }
      ]
    },
    {
      "cell_type": "code",
      "metadata": {
        "id": "A27Sq_oFDLte"
      },
      "source": [
        "def evaluate_model(y_true, y_predicted):\n",
        "    scores = []\n",
        "\n",
        "    #calculate scores for each day\n",
        "    for i in range(y_true.shape[1]):\n",
        "        mse = mean_squared_error(y_true[:, i], y_predicted[:, i])\n",
        "        rmse = np.sqrt(mse)\n",
        "        scores.append(rmse)\n",
        "\n",
        "    #calculate score for whole prediction\n",
        "    total_score = 0\n",
        "    for row in range(y_true.shape[0]):\n",
        "        for col in range(y_predicted.shape[1]):\n",
        "            total_score = total_score + (y_true[row, col] - y_predicted[row, col])**2\n",
        "    total_score = np.sqrt(total_score/(y_true.shape[0]*y_predicted.shape[1]))\n",
        "\n",
        "    return total_score, scores"
      ],
      "execution_count": null,
      "outputs": []
    },
    {
      "cell_type": "code",
      "metadata": {
        "id": "a0EAsLv4DMUV",
        "colab": {
          "base_uri": "https://localhost:8080/"
        },
        "outputId": "28cc1eef-b17c-45c2-c701-3910f1ac003e"
      },
      "source": [
        "evaluate_model(y_true, y_pred)\n"
      ],
      "execution_count": null,
      "outputs": [
        {
          "output_type": "execute_result",
          "data": {
            "text/plain": [
              "(583.5798523720459,\n",
              " [591.3688781943479,\n",
              "  590.4878677228295,\n",
              "  591.4401829915679,\n",
              "  570.7149474516043,\n",
              "  594.1547007038627,\n",
              "  574.2998803244681,\n",
              "  572.0208339093734])"
            ]
          },
          "metadata": {
            "tags": []
          },
          "execution_count": 93
        }
      ]
    },
    {
      "cell_type": "code",
      "metadata": {
        "id": "J6MQ5sa-DNdC",
        "colab": {
          "base_uri": "https://localhost:8080/"
        },
        "outputId": "04d8e785-b739-4b28-e88c-e90e356e9d57"
      },
      "source": [
        "#standard deviation\n",
        "\n",
        "np.std(y_true[0])"
      ],
      "execution_count": null,
      "outputs": [
        {
          "output_type": "execute_result",
          "data": {
            "text/plain": [
              "710.0253857243853"
            ]
          },
          "metadata": {
            "tags": []
          },
          "execution_count": 94
        }
      ]
    }
  ]
}